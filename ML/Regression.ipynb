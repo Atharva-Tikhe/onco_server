{
 "cells": [
  {
   "cell_type": "markdown",
   "id": "50fee54c-45e3-474b-a9f1-bc6328e9ffd5",
   "metadata": {},
   "source": [
    "## Implementation Of Regression ML"
   ]
  },
  {
   "cell_type": "code",
   "execution_count": null,
   "id": "7059c8ae-1828-417c-8723-6b7ef8992c36",
   "metadata": {
    "tags": [
     "parameters"
    ]
   },
   "outputs": [],
   "source": [
    "file = r''\n",
    "target = ''"
   ]
  },
  {
   "cell_type": "code",
   "execution_count": 17,
   "id": "fac0cdc6-7c9d-4ec4-af68-26d0b82b56b6",
   "metadata": {},
   "outputs": [],
   "source": [
    "# Parameters\n",
    "file = \"Breast cancer.csv\"\n",
    "target = \"qvalue\"\n"
   ]
  },
  {
   "cell_type": "code",
   "execution_count": 18,
   "id": "ea82e2e4-4ded-4f8c-a6aa-9806c5d6c4df",
   "metadata": {},
   "outputs": [],
   "source": [
    "import pandas as pd\n",
    "import numpy as np\n",
    "import matplotlib.pyplot as plt\n",
    "import seaborn as sns\n",
    "import dabl\n",
    "import pandas as pd\n",
    "\n",
    "import warnings\n",
    "warnings.filterwarnings('ignore')\n",
    "\n",
    "\n",
    "df = pd.read_csv(rf'{file}')\n",
    "\n",
    "\n",
    "\n",
    "# print(types)\n",
    "#Exploratory Data analysis¶\n",
    "\n",
    "\n"
   ]
  },
  {
   "cell_type": "markdown",
   "id": "a9351f56-2b21-47bd-a34a-d62df8d5a523",
   "metadata": {},
   "source": [
    "### Automated Cleaning"
   ]
  },
  {
   "cell_type": "code",
   "execution_count": 19,
   "id": "9f409cfb-a128-4a47-95f2-b9951cbb547c",
   "metadata": {},
   "outputs": [
    {
     "data": {
      "text/html": [
       "<div>\n",
       "<style scoped>\n",
       "    .dataframe tbody tr th:only-of-type {\n",
       "        vertical-align: middle;\n",
       "    }\n",
       "\n",
       "    .dataframe tbody tr th {\n",
       "        vertical-align: top;\n",
       "    }\n",
       "\n",
       "    .dataframe thead th {\n",
       "        text-align: right;\n",
       "    }\n",
       "</style>\n",
       "<table border=\"1\" class=\"dataframe\">\n",
       "  <thead>\n",
       "    <tr style=\"text-align: right;\">\n",
       "      <th></th>\n",
       "      <th>gene</th>\n",
       "      <th>transcript</th>\n",
       "      <th>score</th>\n",
       "      <th>pvalue</th>\n",
       "      <th>qvalue</th>\n",
       "      <th>info</th>\n",
       "    </tr>\n",
       "  </thead>\n",
       "  <tbody>\n",
       "    <tr>\n",
       "      <th>0</th>\n",
       "      <td>CDH1</td>\n",
       "      <td>ENST00000261769</td>\n",
       "      <td>0.021</td>\n",
       "      <td>0.8248</td>\n",
       "      <td>0.9915</td>\n",
       "      <td>oncogene</td>\n",
       "    </tr>\n",
       "    <tr>\n",
       "      <th>10</th>\n",
       "      <td>RUNX1</td>\n",
       "      <td>ENST00000300305</td>\n",
       "      <td>0.075</td>\n",
       "      <td>0.2058</td>\n",
       "      <td>0.8136</td>\n",
       "      <td>oncogene</td>\n",
       "    </tr>\n",
       "    <tr>\n",
       "      <th>20</th>\n",
       "      <td>SF3B1</td>\n",
       "      <td>ENST00000335508</td>\n",
       "      <td>0.671</td>\n",
       "      <td>0.0000</td>\n",
       "      <td>0.0000</td>\n",
       "      <td>oncogene</td>\n",
       "    </tr>\n",
       "    <tr>\n",
       "      <th>30</th>\n",
       "      <td>FANCD2</td>\n",
       "      <td>ENST00000287647</td>\n",
       "      <td>0.048</td>\n",
       "      <td>0.4281</td>\n",
       "      <td>0.9036</td>\n",
       "      <td>oncogene</td>\n",
       "    </tr>\n",
       "    <tr>\n",
       "      <th>40</th>\n",
       "      <td>MED23</td>\n",
       "      <td>ENST00000368068</td>\n",
       "      <td>0.087</td>\n",
       "      <td>0.1482</td>\n",
       "      <td>0.7928</td>\n",
       "      <td>oncogene</td>\n",
       "    </tr>\n",
       "    <tr>\n",
       "      <th>...</th>\n",
       "      <td>...</td>\n",
       "      <td>...</td>\n",
       "      <td>...</td>\n",
       "      <td>...</td>\n",
       "      <td>...</td>\n",
       "      <td>...</td>\n",
       "    </tr>\n",
       "    <tr>\n",
       "      <th>43750</th>\n",
       "      <td>IGHV1-69</td>\n",
       "      <td>ENST00000390633</td>\n",
       "      <td>0.011</td>\n",
       "      <td>0.9995</td>\n",
       "      <td>1.0000</td>\n",
       "      <td>oncogene</td>\n",
       "    </tr>\n",
       "    <tr>\n",
       "      <th>43760</th>\n",
       "      <td>KIAA0125</td>\n",
       "      <td>ENST00000429431</td>\n",
       "      <td>0.011</td>\n",
       "      <td>0.9995</td>\n",
       "      <td>1.0000</td>\n",
       "      <td>oncogene</td>\n",
       "    </tr>\n",
       "    <tr>\n",
       "      <th>43770</th>\n",
       "      <td>TMEM212</td>\n",
       "      <td>ENST00000334567</td>\n",
       "      <td>0.010</td>\n",
       "      <td>0.9997</td>\n",
       "      <td>1.0000</td>\n",
       "      <td>oncogene</td>\n",
       "    </tr>\n",
       "    <tr>\n",
       "      <th>43780</th>\n",
       "      <td>C22orf29</td>\n",
       "      <td>ENST00000405640</td>\n",
       "      <td>0.009</td>\n",
       "      <td>0.9999</td>\n",
       "      <td>1.0000</td>\n",
       "      <td>oncogene</td>\n",
       "    </tr>\n",
       "    <tr>\n",
       "      <th>43790</th>\n",
       "      <td>RNASE9</td>\n",
       "      <td>ENST00000404716</td>\n",
       "      <td>0.007</td>\n",
       "      <td>1.0000</td>\n",
       "      <td>1.0000</td>\n",
       "      <td>oncogene</td>\n",
       "    </tr>\n",
       "  </tbody>\n",
       "</table>\n",
       "<p>4380 rows × 6 columns</p>\n",
       "</div>"
      ],
      "text/plain": [
       "           gene       transcript  score  pvalue  qvalue      info\n",
       "0          CDH1  ENST00000261769  0.021  0.8248  0.9915  oncogene\n",
       "10        RUNX1  ENST00000300305  0.075  0.2058  0.8136  oncogene\n",
       "20        SF3B1  ENST00000335508  0.671  0.0000  0.0000  oncogene\n",
       "30       FANCD2  ENST00000287647  0.048  0.4281  0.9036  oncogene\n",
       "40        MED23  ENST00000368068  0.087  0.1482  0.7928  oncogene\n",
       "...         ...              ...    ...     ...     ...       ...\n",
       "43750  IGHV1-69  ENST00000390633  0.011  0.9995  1.0000  oncogene\n",
       "43760  KIAA0125  ENST00000429431  0.011  0.9995  1.0000  oncogene\n",
       "43770   TMEM212  ENST00000334567  0.010  0.9997  1.0000  oncogene\n",
       "43780  C22orf29  ENST00000405640  0.009  0.9999  1.0000  oncogene\n",
       "43790    RNASE9  ENST00000404716  0.007  1.0000  1.0000  oncogene\n",
       "\n",
       "[4380 rows x 6 columns]"
      ]
     },
     "execution_count": 19,
     "metadata": {},
     "output_type": "execute_result"
    }
   ],
   "source": [
    "df_clean = dabl.clean(df)[::10]\n",
    "df_clean"
   ]
  },
  {
   "cell_type": "markdown",
   "id": "9ee8b276-c7f9-422b-b1fb-fd23c51b231b",
   "metadata": {},
   "source": [
    "### Types detected in the input csv"
   ]
  },
  {
   "cell_type": "code",
   "execution_count": 20,
   "id": "a4c41adb-37b1-4cb8-8395-912842d5a0b4",
   "metadata": {},
   "outputs": [
    {
     "name": "stdout",
     "output_type": "stream",
     "text": [
      "Detected types in the csv:             continuous  dirty_float  low_card_int  categorical   date  \\\n",
      "gene             False        False         False        False  False   \n",
      "transcript       False        False         False        False  False   \n",
      "score             True        False         False        False  False   \n",
      "pvalue            True        False         False        False  False   \n",
      "qvalue            True        False         False        False  False   \n",
      "info             False        False         False         True  False   \n",
      "\n",
      "            free_string  useless  \n",
      "gene               True    False  \n",
      "transcript         True    False  \n",
      "score             False    False  \n",
      "pvalue            False    False  \n",
      "qvalue            False    False  \n",
      "info              False    False  \n"
     ]
    }
   ],
   "source": [
    "#type of data\n",
    "types = dabl.detect_types(df_clean)\n",
    "print(f'Detected types in the csv: {types}')"
   ]
  },
  {
   "cell_type": "markdown",
   "id": "b094c7f9-f6a0-4ad0-9b82-9853713bdf1c",
   "metadata": {},
   "source": [
    "### EDA "
   ]
  },
  {
   "cell_type": "code",
   "execution_count": 21,
   "id": "b7f64d1c-6df2-4246-8cc6-ed3c3dcec1be",
   "metadata": {},
   "outputs": [
    {
     "name": "stdout",
     "output_type": "stream",
     "text": [
      "Target looks like regression\n"
     ]
    },
    {
     "data": {
      "text/plain": [
       "[array([[<AxesSubplot:title={'center':'F=3.62E+04'}, xlabel='score', ylabel='qvalue'>,\n",
       "         <AxesSubplot:title={'center':'F=3.46E+04'}, xlabel='pvalue'>]],\n",
       "       dtype=object),\n",
       " array([[<AxesSubplot:title={'center':'F=3.09E-01'}, xlabel='qvalue', ylabel='info'>]],\n",
       "       dtype=object)]"
      ]
     },
     "execution_count": 21,
     "metadata": {},
     "output_type": "execute_result"
    },
    {
     "data": {
      "image/png": "[encoded data removed]",
      "text/plain": [
       "<Figure size 432x288 with 1 Axes>"
      ]
     },
     "metadata": {
      "needs_background": "light"
     },
     "output_type": "display_data"
    },
    {
     "data": {
      "image/png": "[encoded data removed]",
      "text/plain": [
       "<Figure size 576x216 with 2 Axes>"
      ]
     },
     "metadata": {
      "needs_background": "light"
     },
     "output_type": "display_data"
    },
    {
     "data": {
      "image/png": "[encoded data removed]",
      "text/plain": [
       "<Figure size 288x360 with 1 Axes>"
      ]
     },
     "metadata": {
      "needs_background": "light"
     },
     "output_type": "display_data"
    }
   ],
   "source": [
    "dabl.plot(df, target_col=target)"
   ]
  },
  {
   "cell_type": "code",
   "execution_count": null,
   "id": "b97a1008-d500-4dff-b661-a42330e32a94",
   "metadata": {},
   "outputs": [],
   "source": []
  },
  {
   "cell_type": "markdown",
   "id": "58700b17-8e70-4f7c-b8ed-9b124135562b",
   "metadata": {},
   "source": [
    "## ML Regression model"
   ]
  },
  {
   "cell_type": "code",
   "execution_count": 9,
   "id": "f5e12a89-403b-45d9-8d8d-e1f6b10573cc",
   "metadata": {},
   "outputs": [
    {
     "name": "stderr",
     "output_type": "stream",
     "text": [
      "[flaml.automl: 10-29 13:00:14] {1459} INFO - Data split method: uniform\n",
      "[flaml.automl: 10-29 13:00:14] {1463} INFO - Evaluation method: holdout\n",
      "[flaml.automl: 10-29 13:00:14] {1511} INFO - Minimizing error metric: 1-r2\n",
      "[flaml.automl: 10-29 13:00:14] {1548} INFO - List of ML learners in AutoML Run: ['lgbm', 'rf', 'xgboost', 'extra_tree']\n",
      "[flaml.automl: 10-29 13:00:14] {1778} INFO - iteration 0, current learner lgbm\n",
      "[flaml.automl: 10-29 13:00:15] {1895} INFO - Estimated sufficient time budget=3890s. Estimated necessary time budget=4s.\n",
      "[flaml.automl: 10-29 13:00:15] {1967} INFO -  at 0.6s,\testimator lgbm's best error=0.6668,\tbest estimator lgbm's best error=0.6668\n",
      "[flaml.automl: 10-29 13:00:15] {1778} INFO - iteration 1, current learner lgbm\n",
      "[flaml.automl: 10-29 13:00:15] {1967} INFO -  at 1.0s,\testimator lgbm's best error=0.6668,\tbest estimator lgbm's best error=0.6668\n",
      "[flaml.automl: 10-29 13:00:15] {1778} INFO - iteration 2, current learner lgbm\n",
      "[flaml.automl: 10-29 13:00:15] {1967} INFO -  at 1.3s,\testimator lgbm's best error=0.4054,\tbest estimator lgbm's best error=0.4054\n",
      "[flaml.automl: 10-29 13:00:15] {1778} INFO - iteration 3, current learner xgboost\n",
      "[flaml.automl: 10-29 13:00:15] {1967} INFO -  at 1.4s,\testimator xgboost's best error=0.7372,\tbest estimator lgbm's best error=0.4054\n",
      "[flaml.automl: 10-29 13:00:15] {1778} INFO - iteration 4, current learner lgbm\n",
      "[flaml.automl: 10-29 13:00:16] {1967} INFO -  at 1.9s,\testimator lgbm's best error=0.0598,\tbest estimator lgbm's best error=0.0598\n",
      "[flaml.automl: 10-29 13:00:16] {1778} INFO - iteration 5, current learner lgbm\n",
      "[flaml.automl: 10-29 13:00:16] {1967} INFO -  at 2.2s,\testimator lgbm's best error=0.0598,\tbest estimator lgbm's best error=0.0598\n",
      "[flaml.automl: 10-29 13:00:16] {1778} INFO - iteration 6, current learner lgbm\n",
      "[flaml.automl: 10-29 13:00:17] {1967} INFO -  at 2.7s,\testimator lgbm's best error=0.0303,\tbest estimator lgbm's best error=0.0303\n",
      "[flaml.automl: 10-29 13:00:17] {1778} INFO - iteration 7, current learner lgbm\n",
      "[flaml.automl: 10-29 13:00:17] {1967} INFO -  at 3.4s,\testimator lgbm's best error=0.0303,\tbest estimator lgbm's best error=0.0303\n",
      "[flaml.automl: 10-29 13:00:17] {1778} INFO - iteration 8, current learner lgbm\n",
      "[flaml.automl: 10-29 13:00:18] {1967} INFO -  at 3.7s,\testimator lgbm's best error=0.0303,\tbest estimator lgbm's best error=0.0303\n",
      "[flaml.automl: 10-29 13:00:18] {1778} INFO - iteration 9, current learner xgboost\n",
      "[flaml.automl: 10-29 13:00:18] {1967} INFO -  at 3.8s,\testimator xgboost's best error=0.7372,\tbest estimator lgbm's best error=0.0303\n",
      "[flaml.automl: 10-29 13:00:18] {1778} INFO - iteration 10, current learner xgboost\n",
      "[flaml.automl: 10-29 13:00:18] {1967} INFO -  at 3.9s,\testimator xgboost's best error=0.4251,\tbest estimator lgbm's best error=0.0303\n",
      "[flaml.automl: 10-29 13:00:18] {1778} INFO - iteration 11, current learner xgboost\n",
      "[flaml.automl: 10-29 13:00:18] {1967} INFO -  at 4.1s,\testimator xgboost's best error=0.2261,\tbest estimator lgbm's best error=0.0303\n",
      "[flaml.automl: 10-29 13:00:18] {1778} INFO - iteration 12, current learner xgboost\n",
      "[flaml.automl: 10-29 13:00:18] {1967} INFO -  at 4.2s,\testimator xgboost's best error=0.2261,\tbest estimator lgbm's best error=0.0303\n",
      "[flaml.automl: 10-29 13:00:18] {1778} INFO - iteration 13, current learner xgboost\n",
      "[flaml.automl: 10-29 13:00:18] {1967} INFO -  at 4.3s,\testimator xgboost's best error=0.2261,\tbest estimator lgbm's best error=0.0303\n",
      "[flaml.automl: 10-29 13:00:18] {1778} INFO - iteration 14, current learner extra_tree\n",
      "[flaml.automl: 10-29 13:00:18] {1967} INFO -  at 4.6s,\testimator extra_tree's best error=0.7308,\tbest estimator lgbm's best error=0.0303\n",
      "[flaml.automl: 10-29 13:00:18] {1778} INFO - iteration 15, current learner lgbm\n",
      "[flaml.automl: 10-29 13:00:19] {1967} INFO -  at 5.1s,\testimator lgbm's best error=0.0235,\tbest estimator lgbm's best error=0.0235\n",
      "[flaml.automl: 10-29 13:00:19] {1778} INFO - iteration 16, current learner extra_tree\n",
      "[flaml.automl: 10-29 13:00:19] {1967} INFO -  at 5.3s,\testimator extra_tree's best error=0.1463,\tbest estimator lgbm's best error=0.0235\n",
      "[flaml.automl: 10-29 13:00:19] {1778} INFO - iteration 17, current learner lgbm\n",
      "[flaml.automl: 10-29 13:00:20] {1967} INFO -  at 5.8s,\testimator lgbm's best error=0.0235,\tbest estimator lgbm's best error=0.0235\n",
      "[flaml.automl: 10-29 13:00:20] {1778} INFO - iteration 18, current learner extra_tree\n",
      "[flaml.automl: 10-29 13:00:20] {1967} INFO -  at 5.9s,\testimator extra_tree's best error=0.1463,\tbest estimator lgbm's best error=0.0235\n",
      "[flaml.automl: 10-29 13:00:20] {1778} INFO - iteration 19, current learner extra_tree\n",
      "[flaml.automl: 10-29 13:00:20] {1967} INFO -  at 6.2s,\testimator extra_tree's best error=0.0092,\tbest estimator extra_tree's best error=0.0092\n",
      "[flaml.automl: 10-29 13:00:20] {1778} INFO - iteration 20, current learner extra_tree\n",
      "[flaml.automl: 10-29 13:00:20] {1967} INFO -  at 6.5s,\testimator extra_tree's best error=0.0011,\tbest estimator extra_tree's best error=0.0011\n",
      "[flaml.automl: 10-29 13:00:20] {1778} INFO - iteration 21, current learner xgboost\n",
      "[flaml.automl: 10-29 13:00:21] {1967} INFO -  at 6.6s,\testimator xgboost's best error=0.0295,\tbest estimator extra_tree's best error=0.0011\n",
      "[flaml.automl: 10-29 13:00:21] {1778} INFO - iteration 22, current learner xgboost\n",
      "[flaml.automl: 10-29 13:00:21] {1967} INFO -  at 6.9s,\testimator xgboost's best error=0.0295,\tbest estimator extra_tree's best error=0.0011\n",
      "[flaml.automl: 10-29 13:00:21] {1778} INFO - iteration 23, current learner extra_tree\n",
      "[flaml.automl: 10-29 13:00:21] {1967} INFO -  at 7.2s,\testimator extra_tree's best error=0.0011,\tbest estimator extra_tree's best error=0.0011\n",
      "[flaml.automl: 10-29 13:00:21] {1778} INFO - iteration 24, current learner extra_tree\n",
      "[flaml.automl: 10-29 13:00:21] {1967} INFO -  at 7.4s,\testimator extra_tree's best error=0.0010,\tbest estimator extra_tree's best error=0.0010\n",
      "[flaml.automl: 10-29 13:00:21] {1778} INFO - iteration 25, current learner xgboost\n",
      "[flaml.automl: 10-29 13:00:21] {1967} INFO -  at 7.5s,\testimator xgboost's best error=0.0295,\tbest estimator extra_tree's best error=0.0010\n",
      "[flaml.automl: 10-29 13:00:21] {1778} INFO - iteration 26, current learner extra_tree\n",
      "[flaml.automl: 10-29 13:00:22] {1967} INFO -  at 7.8s,\testimator extra_tree's best error=0.0010,\tbest estimator extra_tree's best error=0.0010\n",
      "[flaml.automl: 10-29 13:00:22] {1778} INFO - iteration 27, current learner extra_tree\n",
      "[flaml.automl: 10-29 13:00:22] {1967} INFO -  at 8.1s,\testimator extra_tree's best error=0.0010,\tbest estimator extra_tree's best error=0.0010\n",
      "[flaml.automl: 10-29 13:00:22] {1778} INFO - iteration 28, current learner extra_tree\n",
      "[flaml.automl: 10-29 13:00:22] {1967} INFO -  at 8.2s,\testimator extra_tree's best error=0.0010,\tbest estimator extra_tree's best error=0.0010\n",
      "[flaml.automl: 10-29 13:00:22] {1778} INFO - iteration 29, current learner xgboost\n",
      "[flaml.automl: 10-29 13:00:22] {1967} INFO -  at 8.4s,\testimator xgboost's best error=0.0103,\tbest estimator extra_tree's best error=0.0010\n",
      "[flaml.automl: 10-29 13:00:22] {1778} INFO - iteration 30, current learner xgboost\n",
      "[flaml.automl: 10-29 13:00:23] {1967} INFO -  at 8.6s,\testimator xgboost's best error=0.0103,\tbest estimator extra_tree's best error=0.0010\n",
      "[flaml.automl: 10-29 13:00:23] {1778} INFO - iteration 31, current learner xgboost\n",
      "[flaml.automl: 10-29 13:00:23] {1967} INFO -  at 8.8s,\testimator xgboost's best error=0.0103,\tbest estimator extra_tree's best error=0.0010\n",
      "[flaml.automl: 10-29 13:00:23] {1778} INFO - iteration 32, current learner extra_tree\n",
      "[flaml.automl: 10-29 13:00:23] {1967} INFO -  at 9.0s,\testimator extra_tree's best error=0.0010,\tbest estimator extra_tree's best error=0.0010\n",
      "[flaml.automl: 10-29 13:00:23] {1778} INFO - iteration 33, current learner rf\n",
      "[flaml.automl: 10-29 13:00:23] {1967} INFO -  at 9.1s,\testimator rf's best error=0.4117,\tbest estimator extra_tree's best error=0.0010\n",
      "[flaml.automl: 10-29 13:00:23] {1778} INFO - iteration 34, current learner rf\n",
      "[flaml.automl: 10-29 13:00:23] {1967} INFO -  at 9.3s,\testimator rf's best error=0.0314,\tbest estimator extra_tree's best error=0.0010\n",
      "[flaml.automl: 10-29 13:00:23] {1778} INFO - iteration 35, current learner rf\n",
      "[flaml.automl: 10-29 13:00:23] {1967} INFO -  at 9.5s,\testimator rf's best error=0.0314,\tbest estimator extra_tree's best error=0.0010\n",
      "[flaml.automl: 10-29 13:00:23] {1778} INFO - iteration 36, current learner extra_tree\n",
      "[flaml.automl: 10-29 13:00:24] {1967} INFO -  at 9.8s,\testimator extra_tree's best error=0.0010,\tbest estimator extra_tree's best error=0.0010\n",
      "[flaml.automl: 10-29 13:00:24] {1778} INFO - iteration 37, current learner rf\n",
      "[flaml.automl: 10-29 13:00:24] {1967} INFO -  at 10.2s,\testimator rf's best error=0.0031,\tbest estimator extra_tree's best error=0.0010\n",
      "[flaml.automl: 10-29 13:00:24] {1778} INFO - iteration 38, current learner xgboost\n",
      "[flaml.automl: 10-29 13:00:24] {1967} INFO -  at 10.4s,\testimator xgboost's best error=0.0103,\tbest estimator extra_tree's best error=0.0010\n",
      "[flaml.automl: 10-29 13:00:24] {1778} INFO - iteration 39, current learner rf\n",
      "[flaml.automl: 10-29 13:00:25] {1967} INFO -  at 10.8s,\testimator rf's best error=0.0029,\tbest estimator extra_tree's best error=0.0010\n",
      "[flaml.automl: 10-29 13:00:25] {1778} INFO - iteration 40, current learner extra_tree\n",
      "[flaml.automl: 10-29 13:00:25] {1967} INFO -  at 10.9s,\testimator extra_tree's best error=0.0010,\tbest estimator extra_tree's best error=0.0010\n",
      "[flaml.automl: 10-29 13:00:25] {1778} INFO - iteration 41, current learner extra_tree\n",
      "[flaml.automl: 10-29 13:00:25] {1967} INFO -  at 11.2s,\testimator extra_tree's best error=0.0010,\tbest estimator extra_tree's best error=0.0010\n",
      "[flaml.automl: 10-29 13:00:25] {1778} INFO - iteration 42, current learner lgbm\n",
      "[flaml.automl: 10-29 13:00:26] {1967} INFO -  at 12.3s,\testimator lgbm's best error=0.0052,\tbest estimator extra_tree's best error=0.0010\n",
      "[flaml.automl: 10-29 13:00:26] {1778} INFO - iteration 43, current learner extra_tree\n",
      "[flaml.automl: 10-29 13:00:26] {1967} INFO -  at 12.5s,\testimator extra_tree's best error=0.0010,\tbest estimator extra_tree's best error=0.0010\n",
      "[flaml.automl: 10-29 13:00:26] {1778} INFO - iteration 44, current learner extra_tree\n",
      "[flaml.automl: 10-29 13:00:27] {1967} INFO -  at 12.7s,\testimator extra_tree's best error=0.0010,\tbest estimator extra_tree's best error=0.0010\n",
      "[flaml.automl: 10-29 13:00:27] {1778} INFO - iteration 45, current learner xgboost\n",
      "[flaml.automl: 10-29 13:00:27] {1967} INFO -  at 12.8s,\testimator xgboost's best error=0.0103,\tbest estimator extra_tree's best error=0.0010\n",
      "[flaml.automl: 10-29 13:00:27] {1778} INFO - iteration 46, current learner lgbm\n",
      "[flaml.automl: 10-29 13:00:28] {1967} INFO -  at 14.2s,\testimator lgbm's best error=0.0016,\tbest estimator extra_tree's best error=0.0010\n",
      "[flaml.automl: 10-29 13:00:28] {1778} INFO - iteration 47, current learner extra_tree\n",
      "[flaml.automl: 10-29 13:00:28] {1967} INFO -  at 14.3s,\testimator extra_tree's best error=0.0010,\tbest estimator extra_tree's best error=0.0010\n",
      "[flaml.automl: 10-29 13:00:28] {1778} INFO - iteration 48, current learner lgbm\n",
      "[flaml.automl: 10-29 13:00:29] {1967} INFO -  at 15.3s,\testimator lgbm's best error=0.0016,\tbest estimator extra_tree's best error=0.0010\n",
      "[flaml.automl: 10-29 13:00:29] {1778} INFO - iteration 49, current learner xgboost\n",
      "[flaml.automl: 10-29 13:00:30] {1967} INFO -  at 15.7s,\testimator xgboost's best error=0.0103,\tbest estimator extra_tree's best error=0.0010\n",
      "[flaml.automl: 10-29 13:00:30] {1778} INFO - iteration 50, current learner extra_tree\n",
      "[flaml.automl: 10-29 13:00:30] {1967} INFO -  at 16.0s,\testimator extra_tree's best error=0.0010,\tbest estimator extra_tree's best error=0.0010\n",
      "[flaml.automl: 10-29 13:00:30] {1778} INFO - iteration 51, current learner lgbm\n",
      "[flaml.automl: 10-29 13:00:31] {1967} INFO -  at 17.0s,\testimator lgbm's best error=0.0008,\tbest estimator lgbm's best error=0.0008\n",
      "[flaml.automl: 10-29 13:00:31] {1778} INFO - iteration 52, current learner lgbm\n",
      "[flaml.automl: 10-29 13:00:32] {1967} INFO -  at 18.2s,\testimator lgbm's best error=0.0008,\tbest estimator lgbm's best error=0.0008\n",
      "[flaml.automl: 10-29 13:00:32] {1778} INFO - iteration 53, current learner lgbm\n",
      "[flaml.automl: 10-29 13:00:33] {1967} INFO -  at 19.2s,\testimator lgbm's best error=0.0004,\tbest estimator lgbm's best error=0.0004\n",
      "[flaml.automl: 10-29 13:00:33] {1778} INFO - iteration 54, current learner lgbm\n",
      "[flaml.automl: 10-29 13:00:34] {1967} INFO -  at 20.0s,\testimator lgbm's best error=0.0004,\tbest estimator lgbm's best error=0.0004\n",
      "[flaml.automl: 10-29 13:00:34] {1778} INFO - iteration 55, current learner xgboost\n",
      "[flaml.automl: 10-29 13:00:34] {1967} INFO -  at 20.2s,\testimator xgboost's best error=0.0103,\tbest estimator lgbm's best error=0.0004\n",
      "[flaml.automl: 10-29 13:00:34] {1778} INFO - iteration 56, current learner lgbm\n",
      "[flaml.automl: 10-29 13:00:36] {1967} INFO -  at 21.8s,\testimator lgbm's best error=0.0002,\tbest estimator lgbm's best error=0.0002\n",
      "[flaml.automl: 10-29 13:00:36] {1778} INFO - iteration 57, current learner lgbm\n",
      "[flaml.automl: 10-29 13:00:37] {1967} INFO -  at 23.0s,\testimator lgbm's best error=0.0002,\tbest estimator lgbm's best error=0.0002\n",
      "[flaml.automl: 10-29 13:00:37] {1778} INFO - iteration 58, current learner rf\n",
      "[flaml.automl: 10-29 13:00:37] {1967} INFO -  at 23.4s,\testimator rf's best error=0.0021,\tbest estimator lgbm's best error=0.0002\n",
      "[flaml.automl: 10-29 13:00:37] {1778} INFO - iteration 59, current learner lgbm\n",
      "[flaml.automl: 10-29 13:00:38] {1967} INFO -  at 24.2s,\testimator lgbm's best error=0.0002,\tbest estimator lgbm's best error=0.0002\n",
      "[flaml.automl: 10-29 13:00:38] {1778} INFO - iteration 60, current learner rf\n",
      "[flaml.automl: 10-29 13:00:38] {1967} INFO -  at 24.5s,\testimator rf's best error=0.0021,\tbest estimator lgbm's best error=0.0002\n",
      "[flaml.automl: 10-29 13:00:38] {1778} INFO - iteration 61, current learner lgbm\n",
      "[flaml.automl: 10-29 13:00:46] {1967} INFO -  at 32.2s,\testimator lgbm's best error=0.0002,\tbest estimator lgbm's best error=0.0002\n",
      "[flaml.automl: 10-29 13:00:46] {1778} INFO - iteration 62, current learner xgboost\n",
      "[flaml.automl: 10-29 13:00:46] {1967} INFO -  at 32.6s,\testimator xgboost's best error=0.0103,\tbest estimator lgbm's best error=0.0002\n",
      "[flaml.automl: 10-29 13:00:47] {1778} INFO - iteration 63, current learner xgboost\n",
      "[flaml.automl: 10-29 13:00:47] {1967} INFO -  at 32.7s,\testimator xgboost's best error=0.0103,\tbest estimator lgbm's best error=0.0002\n",
      "[flaml.automl: 10-29 13:00:47] {1778} INFO - iteration 64, current learner lgbm\n",
      "[flaml.automl: 10-29 13:00:48] {1967} INFO -  at 33.6s,\testimator lgbm's best error=0.0002,\tbest estimator lgbm's best error=0.0002\n",
      "[flaml.automl: 10-29 13:00:48] {1778} INFO - iteration 65, current learner rf\n",
      "[flaml.automl: 10-29 13:00:48] {1967} INFO -  at 34.0s,\testimator rf's best error=0.0021,\tbest estimator lgbm's best error=0.0002\n",
      "[flaml.automl: 10-29 13:00:48] {1778} INFO - iteration 66, current learner xgboost\n",
      "[flaml.automl: 10-29 13:00:48] {1967} INFO -  at 34.4s,\testimator xgboost's best error=0.0103,\tbest estimator lgbm's best error=0.0002\n",
      "[flaml.automl: 10-29 13:00:48] {1778} INFO - iteration 67, current learner rf\n",
      "[flaml.automl: 10-29 13:00:49] {1967} INFO -  at 35.0s,\testimator rf's best error=0.0015,\tbest estimator lgbm's best error=0.0002\n",
      "[flaml.automl: 10-29 13:00:49] {1778} INFO - iteration 68, current learner lgbm\n",
      "[flaml.automl: 10-29 13:00:52] {1967} INFO -  at 37.6s,\testimator lgbm's best error=0.0002,\tbest estimator lgbm's best error=0.0002\n",
      "[flaml.automl: 10-29 13:00:52] {1778} INFO - iteration 69, current learner xgboost\n",
      "[flaml.automl: 10-29 13:00:52] {1967} INFO -  at 37.8s,\testimator xgboost's best error=0.0103,\tbest estimator lgbm's best error=0.0002\n",
      "[flaml.automl: 10-29 13:00:52] {1778} INFO - iteration 70, current learner xgboost\n",
      "[flaml.automl: 10-29 13:00:52] {1967} INFO -  at 38.4s,\testimator xgboost's best error=0.0103,\tbest estimator lgbm's best error=0.0002\n",
      "[flaml.automl: 10-29 13:00:52] {1778} INFO - iteration 71, current learner xgboost\n",
      "[flaml.automl: 10-29 13:00:52] {1967} INFO -  at 38.6s,\testimator xgboost's best error=0.0103,\tbest estimator lgbm's best error=0.0002\n",
      "[flaml.automl: 10-29 13:00:52] {1778} INFO - iteration 72, current learner xgboost\n",
      "[flaml.automl: 10-29 13:00:53] {1967} INFO -  at 38.9s,\testimator xgboost's best error=0.0103,\tbest estimator lgbm's best error=0.0002\n",
      "[flaml.automl: 10-29 13:00:53] {1778} INFO - iteration 73, current learner xgboost\n",
      "[flaml.automl: 10-29 13:00:53] {1967} INFO -  at 39.1s,\testimator xgboost's best error=0.0103,\tbest estimator lgbm's best error=0.0002\n",
      "[flaml.automl: 10-29 13:00:53] {1778} INFO - iteration 74, current learner xgboost\n",
      "[flaml.automl: 10-29 13:00:53] {1967} INFO -  at 39.4s,\testimator xgboost's best error=0.0103,\tbest estimator lgbm's best error=0.0002\n",
      "[flaml.automl: 10-29 13:00:53] {1778} INFO - iteration 75, current learner lgbm\n",
      "[flaml.automl: 10-29 13:00:54] {1967} INFO -  at 40.5s,\testimator lgbm's best error=0.0002,\tbest estimator lgbm's best error=0.0002\n",
      "[flaml.automl: 10-29 13:00:54] {1778} INFO - iteration 76, current learner lgbm\n",
      "[flaml.automl: 10-29 13:00:58] {1967} INFO -  at 44.0s,\testimator lgbm's best error=0.0002,\tbest estimator lgbm's best error=0.0002\n",
      "[flaml.automl: 10-29 13:00:58] {1778} INFO - iteration 77, current learner xgboost\n",
      "[flaml.automl: 10-29 13:00:58] {1967} INFO -  at 44.2s,\testimator xgboost's best error=0.0103,\tbest estimator lgbm's best error=0.0002\n",
      "[flaml.automl: 10-29 13:00:58] {1778} INFO - iteration 78, current learner rf\n",
      "[flaml.automl: 10-29 13:00:58] {1967} INFO -  at 44.5s,\testimator rf's best error=0.0015,\tbest estimator lgbm's best error=0.0002\n",
      "[flaml.automl: 10-29 13:00:58] {1778} INFO - iteration 79, current learner rf\n",
      "[flaml.automl: 10-29 13:00:59] {1967} INFO -  at 45.5s,\testimator rf's best error=0.0015,\tbest estimator lgbm's best error=0.0002\n",
      "[flaml.automl: 10-29 13:00:59] {1778} INFO - iteration 80, current learner xgboost\n",
      "[flaml.automl: 10-29 13:01:00] {1967} INFO -  at 46.2s,\testimator xgboost's best error=0.0103,\tbest estimator lgbm's best error=0.0002\n",
      "[flaml.automl: 10-29 13:01:00] {1778} INFO - iteration 81, current learner rf\n",
      "[flaml.automl: 10-29 13:01:00] {1967} INFO -  at 46.6s,\testimator rf's best error=0.0015,\tbest estimator lgbm's best error=0.0002\n",
      "[flaml.automl: 10-29 13:01:00] {1778} INFO - iteration 82, current learner xgboost\n",
      "[flaml.automl: 10-29 13:01:01] {1967} INFO -  at 46.7s,\testimator xgboost's best error=0.0103,\tbest estimator lgbm's best error=0.0002\n",
      "[flaml.automl: 10-29 13:01:01] {1778} INFO - iteration 83, current learner xgboost\n",
      "[flaml.automl: 10-29 13:01:01] {1967} INFO -  at 47.0s,\testimator xgboost's best error=0.0103,\tbest estimator lgbm's best error=0.0002\n",
      "[flaml.automl: 10-29 13:01:01] {1778} INFO - iteration 84, current learner xgboost\n",
      "[flaml.automl: 10-29 13:01:01] {1967} INFO -  at 47.2s,\testimator xgboost's best error=0.0103,\tbest estimator lgbm's best error=0.0002\n",
      "[flaml.automl: 10-29 13:01:01] {1778} INFO - iteration 85, current learner xgboost\n",
      "[flaml.automl: 10-29 13:01:02] {1967} INFO -  at 47.8s,\testimator xgboost's best error=0.0103,\tbest estimator lgbm's best error=0.0002\n",
      "[flaml.automl: 10-29 13:01:02] {1778} INFO - iteration 86, current learner xgboost\n",
      "[flaml.automl: 10-29 13:01:02] {1967} INFO -  at 48.1s,\testimator xgboost's best error=0.0103,\tbest estimator lgbm's best error=0.0002\n",
      "[flaml.automl: 10-29 13:01:02] {1778} INFO - iteration 87, current learner rf\n",
      "[flaml.automl: 10-29 13:01:03] {1967} INFO -  at 49.2s,\testimator rf's best error=0.0015,\tbest estimator lgbm's best error=0.0002\n",
      "[flaml.automl: 10-29 13:01:03] {1778} INFO - iteration 88, current learner rf\n",
      "[flaml.automl: 10-29 13:01:03] {1967} INFO -  at 49.5s,\testimator rf's best error=0.0015,\tbest estimator lgbm's best error=0.0002\n",
      "[flaml.automl: 10-29 13:01:03] {1778} INFO - iteration 89, current learner xgboost\n",
      "[flaml.automl: 10-29 13:01:04] {1967} INFO -  at 49.7s,\testimator xgboost's best error=0.0103,\tbest estimator lgbm's best error=0.0002\n",
      "[flaml.automl: 10-29 13:01:04] {1778} INFO - iteration 90, current learner xgboost\n",
      "[flaml.automl: 10-29 13:01:04] {1967} INFO -  at 50.0s,\testimator xgboost's best error=0.0103,\tbest estimator lgbm's best error=0.0002\n",
      "[flaml.automl: 10-29 13:01:04] {1778} INFO - iteration 91, current learner extra_tree\n",
      "[flaml.automl: 10-29 13:01:04] {1967} INFO -  at 50.2s,\testimator extra_tree's best error=0.0010,\tbest estimator lgbm's best error=0.0002\n",
      "[flaml.automl: 10-29 13:01:04] {1778} INFO - iteration 92, current learner xgboost\n",
      "[flaml.automl: 10-29 13:01:04] {1967} INFO -  at 50.4s,\testimator xgboost's best error=0.0103,\tbest estimator lgbm's best error=0.0002\n",
      "[flaml.automl: 10-29 13:01:04] {1778} INFO - iteration 93, current learner xgboost\n",
      "[flaml.automl: 10-29 13:01:05] {1967} INFO -  at 51.0s,\testimator xgboost's best error=0.0103,\tbest estimator lgbm's best error=0.0002\n",
      "[flaml.automl: 10-29 13:01:05] {1778} INFO - iteration 94, current learner lgbm\n",
      "[flaml.automl: 10-29 13:01:08] {1967} INFO -  at 53.9s,\testimator lgbm's best error=0.0002,\tbest estimator lgbm's best error=0.0002\n",
      "[flaml.automl: 10-29 13:01:08] {1778} INFO - iteration 95, current learner extra_tree\n",
      "[flaml.automl: 10-29 13:01:08] {1967} INFO -  at 54.1s,\testimator extra_tree's best error=0.0010,\tbest estimator lgbm's best error=0.0002\n",
      "[flaml.automl: 10-29 13:01:08] {1778} INFO - iteration 96, current learner xgboost\n",
      "[flaml.automl: 10-29 13:01:08] {1967} INFO -  at 54.3s,\testimator xgboost's best error=0.0103,\tbest estimator lgbm's best error=0.0002\n",
      "[flaml.automl: 10-29 13:01:08] {1778} INFO - iteration 97, current learner xgboost\n",
      "[flaml.automl: 10-29 13:01:08] {1967} INFO -  at 54.6s,\testimator xgboost's best error=0.0103,\tbest estimator lgbm's best error=0.0002\n",
      "[flaml.automl: 10-29 13:01:08] {1778} INFO - iteration 98, current learner rf\n",
      "[flaml.automl: 10-29 13:01:09] {1967} INFO -  at 55.3s,\testimator rf's best error=0.0015,\tbest estimator lgbm's best error=0.0002\n",
      "[flaml.automl: 10-29 13:01:09] {1778} INFO - iteration 99, current learner lgbm\n",
      "[flaml.automl: 10-29 13:01:11] {1967} INFO -  at 56.8s,\testimator lgbm's best error=0.0002,\tbest estimator lgbm's best error=0.0002\n",
      "[flaml.automl: 10-29 13:01:11] {1778} INFO - iteration 100, current learner extra_tree\n",
      "[flaml.automl: 10-29 13:01:11] {1967} INFO -  at 57.1s,\testimator extra_tree's best error=0.0010,\tbest estimator lgbm's best error=0.0002\n",
      "[flaml.automl: 10-29 13:01:11] {1778} INFO - iteration 101, current learner xgboost\n",
      "[flaml.automl: 10-29 13:01:11] {1967} INFO -  at 57.4s,\testimator xgboost's best error=0.0103,\tbest estimator lgbm's best error=0.0002\n",
      "[flaml.automl: 10-29 13:01:11] {1778} INFO - iteration 102, current learner lgbm\n",
      "[flaml.automl: 10-29 13:01:13] {1967} INFO -  at 58.8s,\testimator lgbm's best error=0.0002,\tbest estimator lgbm's best error=0.0002\n",
      "[flaml.automl: 10-29 13:01:13] {1778} INFO - iteration 103, current learner xgboost\n",
      "[flaml.automl: 10-29 13:01:13] {1967} INFO -  at 59.0s,\testimator xgboost's best error=0.0103,\tbest estimator lgbm's best error=0.0002\n",
      "[flaml.automl: 10-29 13:01:13] {1778} INFO - iteration 104, current learner xgboost\n",
      "[flaml.automl: 10-29 13:01:13] {1967} INFO -  at 59.2s,\testimator xgboost's best error=0.0103,\tbest estimator lgbm's best error=0.0002\n",
      "[flaml.automl: 10-29 13:01:13] {1778} INFO - iteration 105, current learner xgboost\n",
      "[flaml.automl: 10-29 13:01:13] {1967} INFO -  at 59.4s,\testimator xgboost's best error=0.0103,\tbest estimator lgbm's best error=0.0002\n",
      "[flaml.automl: 10-29 13:01:13] {1778} INFO - iteration 106, current learner extra_tree\n",
      "[flaml.automl: 10-29 13:01:13] {1967} INFO -  at 59.5s,\testimator extra_tree's best error=0.0010,\tbest estimator lgbm's best error=0.0002\n",
      "[flaml.automl: 10-29 13:01:13] {1778} INFO - iteration 107, current learner xgboost\n",
      "[flaml.automl: 10-29 13:01:14] {1967} INFO -  at 59.9s,\testimator xgboost's best error=0.0094,\tbest estimator lgbm's best error=0.0002\n",
      "[flaml.automl: 10-29 13:01:14] {2074} INFO - selected model: LGBMRegressor(colsample_bytree=0.8384580665290827,\n",
      "              learning_rate=0.8795579359736123, max_bin=1023,\n",
      "              min_child_samples=2, n_estimators=214, num_leaves=84,\n",
      "              reg_alpha=0.0009765625, reg_lambda=0.004421183559743704,\n",
      "              verbose=-1)\n",
      "[flaml.automl: 10-29 13:01:16] {2137} INFO - retrain lgbm for 2.4s\n",
      "[flaml.automl: 10-29 13:01:16] {2143} INFO - retrained model: LGBMRegressor(colsample_bytree=0.8384580665290827,\n",
      "              learning_rate=0.8795579359736123, max_bin=1023,\n",
      "              min_child_samples=2, n_estimators=214, num_leaves=84,\n",
      "              reg_alpha=0.0009765625, reg_lambda=0.004421183559743704,\n",
      "              verbose=-1)\n",
      "[flaml.automl: 10-29 13:01:16] {1572} INFO - fit succeeded\n",
      "[flaml.automl: 10-29 13:01:16] {1573} INFO - Time taken to find the best model: 21.80176830291748\n"
     ]
    }
   ],
   "source": [
    "x = df.drop(target, axis=1)\n",
    "y =df[target]\n",
    "from sklearn.model_selection import train_test_split \n",
    "x_train,x_test,y_train,y_test=train_test_split(x,y,test_size=0.2,random_state=45)\n",
    "\n",
    "#split data\n",
    "x_train.shape,x_test.shape,y_train.shape,y_test.shape\n",
    "\n",
    "#Run model\n",
    "from flaml import AutoML\n",
    "automl = AutoML()\n",
    "automl.fit(x_train, y_train, task=\"regression\")"
   ]
  },
  {
   "cell_type": "markdown",
   "id": "0eabcecb-9da9-4d8f-b071-04dbb220e65d",
   "metadata": {},
   "source": [
    "### Best model"
   ]
  },
  {
   "cell_type": "code",
   "execution_count": 15,
   "id": "36f445e5-dabb-4f53-858c-d5dbf5076350",
   "metadata": {},
   "outputs": [
    {
     "data": {
      "text/plain": [
       "<flaml.model.LGBMEstimator at 0x26644ef0b80>"
      ]
     },
     "execution_count": 15,
     "metadata": {},
     "output_type": "execute_result"
    }
   ],
   "source": [
    "# Export the best model\n",
    "automl.model"
   ]
  },
  {
   "cell_type": "markdown",
   "id": "d854d316-a47a-4b2a-99fc-af80f29eb248",
   "metadata": {},
   "source": [
    "### Prediction on test data"
   ]
  },
  {
   "cell_type": "code",
   "execution_count": 16,
   "id": "0db96858-43a2-4538-82fd-9b677e640b18",
   "metadata": {},
   "outputs": [
    {
     "data": {
      "text/plain": [
       "array(['oncogene', 'oncogene', 'tsg', ..., 'tsg', 'oncogene', 'oncogene'],\n",
       "      dtype=object)"
      ]
     },
     "execution_count": 16,
     "metadata": {},
     "output_type": "execute_result"
    }
   ],
   "source": [
    "y_test_predict = automl.predict(x_test)\n",
    "y_test_predict"
   ]
  },
  {
   "cell_type": "markdown",
   "id": "d97104b8-018f-4e1d-b7e7-e87f37ee5686",
   "metadata": {},
   "source": [
    "### Statistics and Plotting"
   ]
  },
  {
   "cell_type": "code",
   "execution_count": 13,
   "id": "331e07f0-cb38-467b-8886-69858322785f",
   "metadata": {},
   "outputs": [
    {
     "ename": "ValueError",
     "evalue": "could not convert string to float: 'tsg'",
     "output_type": "error",
     "traceback": [
      "\u001b[1;31m---------------------------------------------------------------------------\u001b[0m",
      "\u001b[1;31mValueError\u001b[0m                                Traceback (most recent call last)",
      "\u001b[1;32m<ipython-input-13-d9569c615a69>\u001b[0m in \u001b[0;36m<module>\u001b[1;34m\u001b[0m\n\u001b[0;32m      1\u001b[0m \u001b[1;31m# r2_score\u001b[0m\u001b[1;33m\u001b[0m\u001b[1;33m\u001b[0m\u001b[1;33m\u001b[0m\u001b[0m\n\u001b[0;32m      2\u001b[0m \u001b[1;32mfrom\u001b[0m \u001b[0msklearn\u001b[0m\u001b[1;33m.\u001b[0m\u001b[0mmetrics\u001b[0m \u001b[1;32mimport\u001b[0m \u001b[0mr2_score\u001b[0m\u001b[1;33m\u001b[0m\u001b[1;33m\u001b[0m\u001b[0m\n\u001b[1;32m----> 3\u001b[1;33m \u001b[0mr2_y_test\u001b[0m \u001b[1;33m=\u001b[0m \u001b[0mr2_score\u001b[0m\u001b[1;33m(\u001b[0m\u001b[0my_test\u001b[0m\u001b[1;33m,\u001b[0m \u001b[0my_test_predict\u001b[0m\u001b[1;33m)\u001b[0m\u001b[1;33m\u001b[0m\u001b[1;33m\u001b[0m\u001b[0m\n\u001b[0m\u001b[0;32m      4\u001b[0m \u001b[0mprint\u001b[0m\u001b[1;33m(\u001b[0m\u001b[0mr2_y_test\u001b[0m\u001b[1;33m)\u001b[0m\u001b[1;33m\u001b[0m\u001b[1;33m\u001b[0m\u001b[0m\n",
      "\u001b[1;32m~\\AppData\\Local\\Programs\\Python\\Python39\\lib\\site-packages\\sklearn\\metrics\\_regression.py\u001b[0m in \u001b[0;36mr2_score\u001b[1;34m(y_true, y_pred, sample_weight, multioutput)\u001b[0m\n\u001b[0;32m    772\u001b[0m     \u001b[1;33m-\u001b[0m\u001b[1;36m3.0\u001b[0m\u001b[1;33m\u001b[0m\u001b[1;33m\u001b[0m\u001b[0m\n\u001b[0;32m    773\u001b[0m     \"\"\"\n\u001b[1;32m--> 774\u001b[1;33m     y_type, y_true, y_pred, multioutput = _check_reg_targets(\n\u001b[0m\u001b[0;32m    775\u001b[0m         \u001b[0my_true\u001b[0m\u001b[1;33m,\u001b[0m \u001b[0my_pred\u001b[0m\u001b[1;33m,\u001b[0m \u001b[0mmultioutput\u001b[0m\u001b[1;33m\u001b[0m\u001b[1;33m\u001b[0m\u001b[0m\n\u001b[0;32m    776\u001b[0m     )\n",
      "\u001b[1;32m~\\AppData\\Local\\Programs\\Python\\Python39\\lib\\site-packages\\sklearn\\metrics\\_regression.py\u001b[0m in \u001b[0;36m_check_reg_targets\u001b[1;34m(y_true, y_pred, multioutput, dtype)\u001b[0m\n\u001b[0;32m     88\u001b[0m     \"\"\"\n\u001b[0;32m     89\u001b[0m     \u001b[0mcheck_consistent_length\u001b[0m\u001b[1;33m(\u001b[0m\u001b[0my_true\u001b[0m\u001b[1;33m,\u001b[0m \u001b[0my_pred\u001b[0m\u001b[1;33m)\u001b[0m\u001b[1;33m\u001b[0m\u001b[1;33m\u001b[0m\u001b[0m\n\u001b[1;32m---> 90\u001b[1;33m     \u001b[0my_true\u001b[0m \u001b[1;33m=\u001b[0m \u001b[0mcheck_array\u001b[0m\u001b[1;33m(\u001b[0m\u001b[0my_true\u001b[0m\u001b[1;33m,\u001b[0m \u001b[0mensure_2d\u001b[0m\u001b[1;33m=\u001b[0m\u001b[1;32mFalse\u001b[0m\u001b[1;33m,\u001b[0m \u001b[0mdtype\u001b[0m\u001b[1;33m=\u001b[0m\u001b[0mdtype\u001b[0m\u001b[1;33m)\u001b[0m\u001b[1;33m\u001b[0m\u001b[1;33m\u001b[0m\u001b[0m\n\u001b[0m\u001b[0;32m     91\u001b[0m     \u001b[0my_pred\u001b[0m \u001b[1;33m=\u001b[0m \u001b[0mcheck_array\u001b[0m\u001b[1;33m(\u001b[0m\u001b[0my_pred\u001b[0m\u001b[1;33m,\u001b[0m \u001b[0mensure_2d\u001b[0m\u001b[1;33m=\u001b[0m\u001b[1;32mFalse\u001b[0m\u001b[1;33m,\u001b[0m \u001b[0mdtype\u001b[0m\u001b[1;33m=\u001b[0m\u001b[0mdtype\u001b[0m\u001b[1;33m)\u001b[0m\u001b[1;33m\u001b[0m\u001b[1;33m\u001b[0m\u001b[0m\n\u001b[0;32m     92\u001b[0m \u001b[1;33m\u001b[0m\u001b[0m\n",
      "\u001b[1;32m~\\AppData\\Local\\Programs\\Python\\Python39\\lib\\site-packages\\sklearn\\utils\\validation.py\u001b[0m in \u001b[0;36mcheck_array\u001b[1;34m(array, accept_sparse, accept_large_sparse, dtype, order, copy, force_all_finite, ensure_2d, allow_nd, ensure_min_samples, ensure_min_features, estimator)\u001b[0m\n\u001b[0;32m    736\u001b[0m                     \u001b[0marray\u001b[0m \u001b[1;33m=\u001b[0m \u001b[0marray\u001b[0m\u001b[1;33m.\u001b[0m\u001b[0mastype\u001b[0m\u001b[1;33m(\u001b[0m\u001b[0mdtype\u001b[0m\u001b[1;33m,\u001b[0m \u001b[0mcasting\u001b[0m\u001b[1;33m=\u001b[0m\u001b[1;34m\"unsafe\"\u001b[0m\u001b[1;33m,\u001b[0m \u001b[0mcopy\u001b[0m\u001b[1;33m=\u001b[0m\u001b[1;32mFalse\u001b[0m\u001b[1;33m)\u001b[0m\u001b[1;33m\u001b[0m\u001b[1;33m\u001b[0m\u001b[0m\n\u001b[0;32m    737\u001b[0m                 \u001b[1;32melse\u001b[0m\u001b[1;33m:\u001b[0m\u001b[1;33m\u001b[0m\u001b[1;33m\u001b[0m\u001b[0m\n\u001b[1;32m--> 738\u001b[1;33m                     \u001b[0marray\u001b[0m \u001b[1;33m=\u001b[0m \u001b[0mnp\u001b[0m\u001b[1;33m.\u001b[0m\u001b[0masarray\u001b[0m\u001b[1;33m(\u001b[0m\u001b[0marray\u001b[0m\u001b[1;33m,\u001b[0m \u001b[0morder\u001b[0m\u001b[1;33m=\u001b[0m\u001b[0morder\u001b[0m\u001b[1;33m,\u001b[0m \u001b[0mdtype\u001b[0m\u001b[1;33m=\u001b[0m\u001b[0mdtype\u001b[0m\u001b[1;33m)\u001b[0m\u001b[1;33m\u001b[0m\u001b[1;33m\u001b[0m\u001b[0m\n\u001b[0m\u001b[0;32m    739\u001b[0m             \u001b[1;32mexcept\u001b[0m \u001b[0mComplexWarning\u001b[0m \u001b[1;32mas\u001b[0m \u001b[0mcomplex_warning\u001b[0m\u001b[1;33m:\u001b[0m\u001b[1;33m\u001b[0m\u001b[1;33m\u001b[0m\u001b[0m\n\u001b[0;32m    740\u001b[0m                 raise ValueError(\n",
      "\u001b[1;32m~\\AppData\\Local\\Programs\\Python\\Python39\\lib\\site-packages\\pandas\\core\\series.py\u001b[0m in \u001b[0;36m__array__\u001b[1;34m(self, dtype)\u001b[0m\n\u001b[0;32m    855\u001b[0m               dtype='datetime64[ns]')\n\u001b[0;32m    856\u001b[0m         \"\"\"\n\u001b[1;32m--> 857\u001b[1;33m         \u001b[1;32mreturn\u001b[0m \u001b[0mnp\u001b[0m\u001b[1;33m.\u001b[0m\u001b[0masarray\u001b[0m\u001b[1;33m(\u001b[0m\u001b[0mself\u001b[0m\u001b[1;33m.\u001b[0m\u001b[0m_values\u001b[0m\u001b[1;33m,\u001b[0m \u001b[0mdtype\u001b[0m\u001b[1;33m)\u001b[0m\u001b[1;33m\u001b[0m\u001b[1;33m\u001b[0m\u001b[0m\n\u001b[0m\u001b[0;32m    858\u001b[0m \u001b[1;33m\u001b[0m\u001b[0m\n\u001b[0;32m    859\u001b[0m     \u001b[1;31m# ----------------------------------------------------------------------\u001b[0m\u001b[1;33m\u001b[0m\u001b[1;33m\u001b[0m\u001b[1;33m\u001b[0m\u001b[0m\n",
      "\u001b[1;31mValueError\u001b[0m: could not convert string to float: 'tsg'"
     ]
    }
   ],
   "source": [
    "# r2_score\n",
    "from sklearn.metrics import r2_score\n",
    "r2_y_test = r2_score(y_test, y_test_predict)\n",
    "print(r2_y_test)"
   ]
  },
  {
   "cell_type": "code",
   "execution_count": 14,
   "id": "d8946668-d912-45d8-801d-d9a230a4e3e1",
   "metadata": {},
   "outputs": [
    {
     "data": {
      "image/png": "[encoded data removed]",
      "text/plain": [
       "<Figure size 432x288 with 1 Axes>"
      ]
     },
     "metadata": {
      "needs_background": "light"
     },
     "output_type": "display_data"
    }
   ],
   "source": [
    "# Visulization\n",
    "from sklearn.linear_model import LinearRegression\n",
    "from sklearn.model_selection import train_test_split\n",
    "df =()\n",
    "# Split data into training and test splits\n",
    "x_train,x_test,y_train,y_test=train_test_split(x,y,test_size=0.2,random_state=42)\n",
    "df = 'train'\n",
    "df = 'test'\n",
    "plt.scatter(y_test, y_test_predict)\n",
    "plt.show()"
   ]
  },
  {
   "cell_type": "code",
   "execution_count": null,
   "id": "1f32801e-76d1-4467-8c89-77eeec846859",
   "metadata": {},
   "outputs": [],
   "source": []
  }
 ],
 "metadata": {
  "kernelspec": {
   "display_name": "Python 3",
   "language": "python",
   "name": "python3"
  },
  "language_info": {
   "codemirror_mode": {
    "name": "ipython",
    "version": 3
   },
   "file_extension": ".py",
   "mimetype": "text/x-python",
   "name": "python",
   "nbconvert_exporter": "python",
   "pygments_lexer": "ipython3",
   "version": "3.9.6"
  }
 },
 "nbformat": 4,
 "nbformat_minor": 5
}
