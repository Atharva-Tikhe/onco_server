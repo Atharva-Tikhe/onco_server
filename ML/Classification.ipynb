{
 "cells": [
  {
   "cell_type": "markdown",
   "id": "56ef8199-ed2d-4196-b84a-5e19f4b182b3",
   "metadata": {},
   "source": [
    "## Implementation Of Classification ML"
   ]
  },
  {
   "cell_type": "code",
   "execution_count": null,
   "id": "9a39033d-7c8a-45ca-ba23-3f4748badf50",
   "metadata": {
    "tags": [
     "parameters"
    ]
   },
   "outputs": [],
   "source": [
    "file = r''\n",
    "target = ''"
   ]
  },
  {
   "cell_type": "code",
   "execution_count": null,
   "id": "46fff198-9cd4-470e-a1b8-9db15c0885a2",
   "metadata": {},
   "outputs": [],
   "source": [
    "import dabl\n",
    "import pandas as pd\n",
    "\n",
    "import warnings\n",
    "warnings.filterwarnings('ignore')\n",
    "\n",
    "df = pd.read_csv(rf'{file}')\n"
   ]
  },
  {
   "cell_type": "markdown",
   "id": "76cc31db-4a35-4163-bb24-34c06f390d10",
   "metadata": {},
   "source": [
    "### Automated Cleaning"
   ]
  },
  {
   "cell_type": "code",
   "execution_count": null,
   "id": "49f69e9e-2862-4d82-8a50-19e0517fefef",
   "metadata": {},
   "outputs": [],
   "source": [
    "df_clean = dabl.clean(df)[::10]\n",
    "df_clean"
   ]
  },
  {
   "cell_type": "markdown",
   "id": "228999a0-18cb-42bc-89e8-827af5baedf7",
   "metadata": {},
   "source": [
    "### Types detected in the input csv"
   ]
  },
  {
   "cell_type": "code",
   "execution_count": null,
   "id": "ceacd236-7e19-4452-9277-653f76b188d4",
   "metadata": {},
   "outputs": [],
   "source": [
    "types = dabl.detect_types(df_clean)\n",
    "print(f'Detected types in the csv: {types}')"
   ]
  },
  {
   "cell_type": "markdown",
   "id": "d297c39c-ba18-4a88-a270-0d5ae0335f16",
   "metadata": {},
   "source": [
    "### EDA "
   ]
  },
  {
   "cell_type": "code",
   "execution_count": null,
   "id": "5c9e7944-d537-4b4b-9347-28026d9f7ebc",
   "metadata": {},
   "outputs": [],
   "source": [
    "dabl.plot(df, target_col=target)"
   ]
  },
  {
   "cell_type": "markdown",
   "id": "41118064-a132-4e57-9bbb-d9e0ddd5e5af",
   "metadata": {},
   "source": [
    "### Explanation of a simple classifier model which was applied to your data"
   ]
  },
  {
   "cell_type": "code",
   "execution_count": null,
   "id": "2c37d740-6418-483f-adb2-7e411baab3da",
   "metadata": {},
   "outputs": [],
   "source": [
    "ec = dabl.SimpleClassifier(random_state=0).fit(df, target_col=target)\n",
    "print('Explanation of a simple classifier model applied to your data: ')\n",
    "dabl.explain(ec)"
   ]
  },
  {
   "cell_type": "code",
   "execution_count": null,
   "id": "2b7e00e9-415a-474e-8e09-0efc44a0cd65",
   "metadata": {},
   "outputs": [],
   "source": []
  }
 ],
 "metadata": {
  "kernelspec": {
   "display_name": "Python 3",
   "language": "python",
   "name": "python3"
  },
  "language_info": {
   "codemirror_mode": {
    "name": "ipython",
    "version": 3
   },
   "file_extension": ".py",
   "mimetype": "text/x-python",
   "name": "python",
   "nbconvert_exporter": "python",
   "pygments_lexer": "ipython3",
   "version": "3.9.6"
  }
 },
 "nbformat": 4,
 "nbformat_minor": 5
}
