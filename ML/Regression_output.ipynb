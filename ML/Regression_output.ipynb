{
 "cells": [
  {
   "cell_type": "markdown",
   "id": "50fee54c-45e3-474b-a9f1-bc6328e9ffd5",
   "metadata": {
    "papermill": {
     "duration": 0.176837,
     "end_time": "2021-10-29T17:52:39.706559",
     "exception": false,
     "start_time": "2021-10-29T17:52:39.529722",
     "status": "completed"
    },
    "tags": []
   },
   "source": [
    "## Implementation Of Regression ML"
   ]
  },
  {
   "cell_type": "code",
   "execution_count": 1,
   "id": "7059c8ae-1828-417c-8723-6b7ef8992c36",
   "metadata": {
    "execution": {
     "iopub.execute_input": "2021-10-29T17:52:40.110186Z",
     "iopub.status.busy": "2021-10-29T17:52:40.107566Z",
     "iopub.status.idle": "2021-10-29T17:52:40.125179Z",
     "shell.execute_reply": "2021-10-29T17:52:40.122157Z"
    },
    "papermill": {
     "duration": 0.252342,
     "end_time": "2021-10-29T17:52:40.126186",
     "exception": false,
     "start_time": "2021-10-29T17:52:39.873844",
     "status": "completed"
    },
    "tags": [
     "parameters"
    ]
   },
   "outputs": [],
   "source": [
    "file = r''\n",
    "target = ''"
   ]
  },
  {
   "cell_type": "code",
   "execution_count": 2,
   "id": "ccf74378",
   "metadata": {
    "execution": {
     "iopub.execute_input": "2021-10-29T17:52:40.481085Z",
     "iopub.status.busy": "2021-10-29T17:52:40.480030Z",
     "iopub.status.idle": "2021-10-29T17:52:40.496687Z",
     "shell.execute_reply": "2021-10-29T17:52:40.498704Z"
    },
    "papermill": {
     "duration": 0.201804,
     "end_time": "2021-10-29T17:52:40.498956",
     "exception": false,
     "start_time": "2021-10-29T17:52:40.297152",
     "status": "completed"
    },
    "tags": [
     "injected-parameters"
    ]
   },
   "outputs": [],
   "source": [
    "# Parameters\n",
    "file = \"Breast cancer.csv\"\n",
    "target = \"info\"\n"
   ]
  },
  {
   "cell_type": "code",
   "execution_count": 3,
   "id": "fac0cdc6-7c9d-4ec4-af68-26d0b82b56b6",
   "metadata": {
    "execution": {
     "iopub.execute_input": "2021-10-29T17:52:40.869511Z",
     "iopub.status.busy": "2021-10-29T17:52:40.866508Z",
     "iopub.status.idle": "2021-10-29T17:52:40.882068Z",
     "shell.execute_reply": "2021-10-29T17:52:40.883991Z"
    },
    "papermill": {
     "duration": 0.19975,
     "end_time": "2021-10-29T17:52:40.883991",
     "exception": false,
     "start_time": "2021-10-29T17:52:40.684241",
     "status": "completed"
    },
    "tags": []
   },
   "outputs": [],
   "source": [
    "# Parameters\n",
    "file = \"Breast cancer.csv\"\n",
    "target = \"qvalue\"\n"
   ]
  },
  {
   "cell_type": "code",
   "execution_count": 4,
   "id": "ea82e2e4-4ded-4f8c-a6aa-9806c5d6c4df",
   "metadata": {
    "execution": {
     "iopub.execute_input": "2021-10-29T17:52:41.219891Z",
     "iopub.status.busy": "2021-10-29T17:52:41.216987Z",
     "iopub.status.idle": "2021-10-29T17:52:50.161348Z",
     "shell.execute_reply": "2021-10-29T17:52:50.163350Z"
    },
    "papermill": {
     "duration": 9.113564,
     "end_time": "2021-10-29T17:52:50.163350",
     "exception": false,
     "start_time": "2021-10-29T17:52:41.049786",
     "status": "completed"
    },
    "tags": []
   },
   "outputs": [
    {
     "name": "stderr",
     "output_type": "stream",
     "text": [
      "E:\\MIT\\OncoOmics_portal\\ML\\lib\\site-packages\\sklearn\\experimental\\enable_hist_gradient_boosting.py:16: UserWarning: Since version 1.0, it is not needed to import enable_hist_gradient_boosting anymore. HistGradientBoostingClassifier and HistGradientBoostingRegressor are now stable and can be normally imported from sklearn.ensemble.\n",
      "  warnings.warn(\n"
     ]
    }
   ],
   "source": [
    "import pandas as pd\n",
    "import numpy as np\n",
    "import matplotlib.pyplot as plt\n",
    "import seaborn as sns\n",
    "import dabl\n",
    "import pandas as pd\n",
    "\n",
    "import warnings\n",
    "warnings.filterwarnings('ignore')\n",
    "\n",
    "\n",
    "df = pd.read_csv(rf'{file}')\n",
    "\n",
    "\n",
    "\n",
    "# print(types)\n",
    "#Exploratory Data analysis¶\n",
    "\n",
    "\n"
   ]
  },
  {
   "cell_type": "markdown",
   "id": "a9351f56-2b21-47bd-a34a-d62df8d5a523",
   "metadata": {
    "papermill": {
     "duration": 0.158147,
     "end_time": "2021-10-29T17:52:50.501341",
     "exception": false,
     "start_time": "2021-10-29T17:52:50.343194",
     "status": "completed"
    },
    "tags": []
   },
   "source": [
    "### Automated Cleaning"
   ]
  },
  {
   "cell_type": "code",
   "execution_count": 5,
   "id": "9f409cfb-a128-4a47-95f2-b9951cbb547c",
   "metadata": {
    "execution": {
     "iopub.execute_input": "2021-10-29T17:52:50.818068Z",
     "iopub.status.busy": "2021-10-29T17:52:50.817067Z",
     "iopub.status.idle": "2021-10-29T17:52:51.587461Z",
     "shell.execute_reply": "2021-10-29T17:52:51.591477Z"
    },
    "papermill": {
     "duration": 0.95174,
     "end_time": "2021-10-29T17:52:51.591477",
     "exception": false,
     "start_time": "2021-10-29T17:52:50.639737",
     "status": "completed"
    },
    "tags": []
   },
   "outputs": [
    {
     "data": {
      "text/html": [
       "<div>\n",
       "<style scoped>\n",
       "    .dataframe tbody tr th:only-of-type {\n",
       "        vertical-align: middle;\n",
       "    }\n",
       "\n",
       "    .dataframe tbody tr th {\n",
       "        vertical-align: top;\n",
       "    }\n",
       "\n",
       "    .dataframe thead th {\n",
       "        text-align: right;\n",
       "    }\n",
       "</style>\n",
       "<table border=\"1\" class=\"dataframe\">\n",
       "  <thead>\n",
       "    <tr style=\"text-align: right;\">\n",
       "      <th></th>\n",
       "      <th>gene</th>\n",
       "      <th>transcript</th>\n",
       "      <th>score</th>\n",
       "      <th>pvalue</th>\n",
       "      <th>qvalue</th>\n",
       "      <th>info</th>\n",
       "    </tr>\n",
       "  </thead>\n",
       "  <tbody>\n",
       "    <tr>\n",
       "      <th>0</th>\n",
       "      <td>CDH1</td>\n",
       "      <td>ENST00000261769</td>\n",
       "      <td>0.021</td>\n",
       "      <td>0.8248</td>\n",
       "      <td>0.9915</td>\n",
       "      <td>oncogene</td>\n",
       "    </tr>\n",
       "    <tr>\n",
       "      <th>10</th>\n",
       "      <td>RUNX1</td>\n",
       "      <td>ENST00000300305</td>\n",
       "      <td>0.075</td>\n",
       "      <td>0.2058</td>\n",
       "      <td>0.8136</td>\n",
       "      <td>oncogene</td>\n",
       "    </tr>\n",
       "    <tr>\n",
       "      <th>20</th>\n",
       "      <td>SF3B1</td>\n",
       "      <td>ENST00000335508</td>\n",
       "      <td>0.671</td>\n",
       "      <td>0.0000</td>\n",
       "      <td>0.0000</td>\n",
       "      <td>oncogene</td>\n",
       "    </tr>\n",
       "    <tr>\n",
       "      <th>30</th>\n",
       "      <td>FANCD2</td>\n",
       "      <td>ENST00000287647</td>\n",
       "      <td>0.048</td>\n",
       "      <td>0.4281</td>\n",
       "      <td>0.9036</td>\n",
       "      <td>oncogene</td>\n",
       "    </tr>\n",
       "    <tr>\n",
       "      <th>40</th>\n",
       "      <td>MED23</td>\n",
       "      <td>ENST00000368068</td>\n",
       "      <td>0.087</td>\n",
       "      <td>0.1482</td>\n",
       "      <td>0.7928</td>\n",
       "      <td>oncogene</td>\n",
       "    </tr>\n",
       "    <tr>\n",
       "      <th>...</th>\n",
       "      <td>...</td>\n",
       "      <td>...</td>\n",
       "      <td>...</td>\n",
       "      <td>...</td>\n",
       "      <td>...</td>\n",
       "      <td>...</td>\n",
       "    </tr>\n",
       "    <tr>\n",
       "      <th>43750</th>\n",
       "      <td>IGHV1-69</td>\n",
       "      <td>ENST00000390633</td>\n",
       "      <td>0.011</td>\n",
       "      <td>0.9995</td>\n",
       "      <td>1.0000</td>\n",
       "      <td>oncogene</td>\n",
       "    </tr>\n",
       "    <tr>\n",
       "      <th>43760</th>\n",
       "      <td>KIAA0125</td>\n",
       "      <td>ENST00000429431</td>\n",
       "      <td>0.011</td>\n",
       "      <td>0.9995</td>\n",
       "      <td>1.0000</td>\n",
       "      <td>oncogene</td>\n",
       "    </tr>\n",
       "    <tr>\n",
       "      <th>43770</th>\n",
       "      <td>TMEM212</td>\n",
       "      <td>ENST00000334567</td>\n",
       "      <td>0.010</td>\n",
       "      <td>0.9997</td>\n",
       "      <td>1.0000</td>\n",
       "      <td>oncogene</td>\n",
       "    </tr>\n",
       "    <tr>\n",
       "      <th>43780</th>\n",
       "      <td>C22orf29</td>\n",
       "      <td>ENST00000405640</td>\n",
       "      <td>0.009</td>\n",
       "      <td>0.9999</td>\n",
       "      <td>1.0000</td>\n",
       "      <td>oncogene</td>\n",
       "    </tr>\n",
       "    <tr>\n",
       "      <th>43790</th>\n",
       "      <td>RNASE9</td>\n",
       "      <td>ENST00000404716</td>\n",
       "      <td>0.007</td>\n",
       "      <td>1.0000</td>\n",
       "      <td>1.0000</td>\n",
       "      <td>oncogene</td>\n",
       "    </tr>\n",
       "  </tbody>\n",
       "</table>\n",
       "<p>4380 rows × 6 columns</p>\n",
       "</div>"
      ],
      "text/plain": [
       "           gene       transcript  score  pvalue  qvalue      info\n",
       "0          CDH1  ENST00000261769  0.021  0.8248  0.9915  oncogene\n",
       "10        RUNX1  ENST00000300305  0.075  0.2058  0.8136  oncogene\n",
       "20        SF3B1  ENST00000335508  0.671  0.0000  0.0000  oncogene\n",
       "30       FANCD2  ENST00000287647  0.048  0.4281  0.9036  oncogene\n",
       "40        MED23  ENST00000368068  0.087  0.1482  0.7928  oncogene\n",
       "...         ...              ...    ...     ...     ...       ...\n",
       "43750  IGHV1-69  ENST00000390633  0.011  0.9995  1.0000  oncogene\n",
       "43760  KIAA0125  ENST00000429431  0.011  0.9995  1.0000  oncogene\n",
       "43770   TMEM212  ENST00000334567  0.010  0.9997  1.0000  oncogene\n",
       "43780  C22orf29  ENST00000405640  0.009  0.9999  1.0000  oncogene\n",
       "43790    RNASE9  ENST00000404716  0.007  1.0000  1.0000  oncogene\n",
       "\n",
       "[4380 rows x 6 columns]"
      ]
     },
     "execution_count": 5,
     "metadata": {},
     "output_type": "execute_result"
    }
   ],
   "source": [
    "df_clean = dabl.clean(df)[::10]\n",
    "df_clean"
   ]
  },
  {
   "cell_type": "markdown",
   "id": "9ee8b276-c7f9-422b-b1fb-fd23c51b231b",
   "metadata": {
    "papermill": {
     "duration": 0.147597,
     "end_time": "2021-10-29T17:52:51.884317",
     "exception": false,
     "start_time": "2021-10-29T17:52:51.736720",
     "status": "completed"
    },
    "tags": []
   },
   "source": [
    "### Types detected in the input csv"
   ]
  },
  {
   "cell_type": "code",
   "execution_count": 6,
   "id": "a4c41adb-37b1-4cb8-8395-912842d5a0b4",
   "metadata": {
    "execution": {
     "iopub.execute_input": "2021-10-29T17:52:52.210053Z",
     "iopub.status.busy": "2021-10-29T17:52:52.208070Z",
     "iopub.status.idle": "2021-10-29T17:52:52.338836Z",
     "shell.execute_reply": "2021-10-29T17:52:52.339838Z"
    },
    "papermill": {
     "duration": 0.294377,
     "end_time": "2021-10-29T17:52:52.339838",
     "exception": false,
     "start_time": "2021-10-29T17:52:52.045461",
     "status": "completed"
    },
    "tags": []
   },
   "outputs": [
    {
     "name": "stdout",
     "output_type": "stream",
     "text": [
      "Detected types in the csv:             continuous  dirty_float  low_card_int  categorical   date  \\\n",
      "gene             False        False         False        False  False   \n",
      "transcript       False        False         False        False  False   \n",
      "score             True        False         False        False  False   \n",
      "pvalue            True        False         False        False  False   \n",
      "qvalue            True        False         False        False  False   \n",
      "info             False        False         False         True  False   \n",
      "\n",
      "            free_string  useless  \n",
      "gene               True    False  \n",
      "transcript         True    False  \n",
      "score             False    False  \n",
      "pvalue            False    False  \n",
      "qvalue            False    False  \n",
      "info              False    False  \n"
     ]
    }
   ],
   "source": [
    "#type of data\n",
    "types = dabl.detect_types(df_clean)\n",
    "print(f'Detected types in the csv: {types}')"
   ]
  },
  {
   "cell_type": "markdown",
   "id": "b094c7f9-f6a0-4ad0-9b82-9853713bdf1c",
   "metadata": {
    "papermill": {
     "duration": 0.185834,
     "end_time": "2021-10-29T17:52:52.678594",
     "exception": false,
     "start_time": "2021-10-29T17:52:52.492760",
     "status": "completed"
    },
    "tags": []
   },
   "source": [
    "### EDA "
   ]
  },
  {
   "cell_type": "code",
   "execution_count": 7,
   "id": "b7f64d1c-6df2-4246-8cc6-ed3c3dcec1be",
   "metadata": {
    "execution": {
     "iopub.execute_input": "2021-10-29T17:52:53.012454Z",
     "iopub.status.busy": "2021-10-29T17:52:53.010921Z",
     "iopub.status.idle": "2021-10-29T17:52:58.302068Z",
     "shell.execute_reply": "2021-10-29T17:52:58.304072Z"
    },
    "papermill": {
     "duration": 5.472937,
     "end_time": "2021-10-29T17:52:58.304072",
     "exception": false,
     "start_time": "2021-10-29T17:52:52.831135",
     "status": "completed"
    },
    "tags": []
   },
   "outputs": [
    {
     "name": "stdout",
     "output_type": "stream",
     "text": [
      "Target looks like regression\n"
     ]
    },
    {
     "data": {
      "text/plain": [
       "[array([[<AxesSubplot:title={'center':'F=3.62E+04'}, xlabel='score', ylabel='qvalue'>,\n",
       "         <AxesSubplot:title={'center':'F=3.46E+04'}, xlabel='pvalue'>]],\n",
       "       dtype=object),\n",
       " array([[<AxesSubplot:title={'center':'F=3.08E-01'}, xlabel='qvalue', ylabel='info'>]],\n",
       "       dtype=object)]"
      ]
     },
     "execution_count": 7,
     "metadata": {},
     "output_type": "execute_result"
    },
    {
     "data": {
      "image/png": "[encoded data removed]",
      "text/plain": [
       "<Figure size 432x288 with 1 Axes>"
      ]
     },
     "metadata": {
      "needs_background": "light"
     },
     "output_type": "display_data"
    },
    {
     "data": {
      "image/png": "[encoded data removed]",
      "text/plain": [
       "<Figure size 576x216 with 2 Axes>"
      ]
     },
     "metadata": {
      "needs_background": "light"
     },
     "output_type": "display_data"
    },
    {
     "data": {
      "image/png": "[encoded data removed]",
      "text/plain": [
       "<Figure size 288x360 with 1 Axes>"
      ]
     },
     "metadata": {
      "needs_background": "light"
     },
     "output_type": "display_data"
    }
   ],
   "source": [
    "dabl.plot(df, target_col=target)"
   ]
  },
  {
   "cell_type": "code",
   "execution_count": null,
   "id": "b97a1008-d500-4dff-b661-a42330e32a94",
   "metadata": {
    "papermill": {
     "duration": 0.292707,
     "end_time": "2021-10-29T17:52:58.776942",
     "exception": false,
     "start_time": "2021-10-29T17:52:58.484235",
     "status": "completed"
    },
    "tags": []
   },
   "outputs": [],
   "source": []
  },
  {
   "cell_type": "markdown",
   "id": "58700b17-8e70-4f7c-b8ed-9b124135562b",
   "metadata": {
    "papermill": {
     "duration": 0.189801,
     "end_time": "2021-10-29T17:52:59.164135",
     "exception": false,
     "start_time": "2021-10-29T17:52:58.974334",
     "status": "completed"
    },
    "tags": []
   },
   "source": [
    "## ML Regression model"
   ]
  },
  {
   "cell_type": "code",
   "execution_count": 8,
   "id": "f5e12a89-403b-45d9-8d8d-e1f6b10573cc",
   "metadata": {
    "execution": {
     "iopub.execute_input": "2021-10-29T17:52:59.553486Z",
     "iopub.status.busy": "2021-10-29T17:52:59.552154Z",
     "iopub.status.idle": "2021-10-29T17:54:03.833803Z",
     "shell.execute_reply": "2021-10-29T17:54:03.835464Z"
    },
    "papermill": {
     "duration": 64.47885,
     "end_time": "2021-10-29T17:54:03.836819",
     "exception": false,
     "start_time": "2021-10-29T17:52:59.357969",
     "status": "completed"
    },
    "tags": []
   },
   "outputs": [
    {
     "name": "stderr",
     "output_type": "stream",
     "text": [
      "[flaml.automl: 10-29 23:23:00] {1463} INFO - Data split method: uniform\n"
     ]
    },
    {
     "name": "stderr",
     "output_type": "stream",
     "text": [
      "[flaml.automl: 10-29 23:23:00] {1467} INFO - Evaluation method: holdout\n"
     ]
    },
    {
     "name": "stderr",
     "output_type": "stream",
     "text": [
      "[flaml.automl: 10-29 23:23:00] {1515} INFO - Minimizing error metric: 1-r2\n"
     ]
    },
    {
     "name": "stderr",
     "output_type": "stream",
     "text": [
      "[flaml.automl: 10-29 23:23:00] {1552} INFO - List of ML learners in AutoML Run: ['lgbm', 'rf', 'xgboost', 'extra_tree']\n"
     ]
    },
    {
     "name": "stderr",
     "output_type": "stream",
     "text": [
      "[flaml.automl: 10-29 23:23:00] {1793} INFO - iteration 0, current learner lgbm\n"
     ]
    },
    {
     "name": "stderr",
     "output_type": "stream",
     "text": [
      "[flaml.automl: 10-29 23:23:01] {1910} INFO - Estimated sufficient time budget=6255s. Estimated necessary time budget=6s.\n"
     ]
    },
    {
     "name": "stderr",
     "output_type": "stream",
     "text": [
      "[flaml.automl: 10-29 23:23:01] {1981} INFO -  at 1.2s,\testimator lgbm's best error=0.5781,\tbest estimator lgbm's best error=0.5781\n"
     ]
    },
    {
     "name": "stderr",
     "output_type": "stream",
     "text": [
      "[flaml.automl: 10-29 23:23:01] {1793} INFO - iteration 1, current learner lgbm\n"
     ]
    },
    {
     "name": "stderr",
     "output_type": "stream",
     "text": [
      "[flaml.automl: 10-29 23:23:01] {1981} INFO -  at 1.6s,\testimator lgbm's best error=0.5781,\tbest estimator lgbm's best error=0.5781\n"
     ]
    },
    {
     "name": "stderr",
     "output_type": "stream",
     "text": [
      "[flaml.automl: 10-29 23:23:01] {1793} INFO - iteration 2, current learner lgbm\n"
     ]
    },
    {
     "name": "stderr",
     "output_type": "stream",
     "text": [
      "[flaml.automl: 10-29 23:23:02] {1981} INFO -  at 2.0s,\testimator lgbm's best error=0.2565,\tbest estimator lgbm's best error=0.2565\n"
     ]
    },
    {
     "name": "stderr",
     "output_type": "stream",
     "text": [
      "[flaml.automl: 10-29 23:23:02] {1793} INFO - iteration 3, current learner lgbm\n"
     ]
    },
    {
     "name": "stderr",
     "output_type": "stream",
     "text": [
      "[flaml.automl: 10-29 23:23:02] {1981} INFO -  at 2.5s,\testimator lgbm's best error=0.0224,\tbest estimator lgbm's best error=0.0224\n"
     ]
    },
    {
     "name": "stderr",
     "output_type": "stream",
     "text": [
      "[flaml.automl: 10-29 23:23:02] {1793} INFO - iteration 4, current learner lgbm\n"
     ]
    },
    {
     "name": "stderr",
     "output_type": "stream",
     "text": [
      "[flaml.automl: 10-29 23:23:03] {1981} INFO -  at 2.9s,\testimator lgbm's best error=0.0224,\tbest estimator lgbm's best error=0.0224\n"
     ]
    },
    {
     "name": "stderr",
     "output_type": "stream",
     "text": [
      "[flaml.automl: 10-29 23:23:03] {1793} INFO - iteration 5, current learner lgbm\n"
     ]
    },
    {
     "name": "stderr",
     "output_type": "stream",
     "text": [
      "[flaml.automl: 10-29 23:23:03] {1981} INFO -  at 3.4s,\testimator lgbm's best error=0.0106,\tbest estimator lgbm's best error=0.0106\n"
     ]
    },
    {
     "name": "stderr",
     "output_type": "stream",
     "text": [
      "[flaml.automl: 10-29 23:23:03] {1793} INFO - iteration 6, current learner lgbm\n"
     ]
    },
    {
     "name": "stderr",
     "output_type": "stream",
     "text": [
      "[flaml.automl: 10-29 23:23:04] {1981} INFO -  at 4.0s,\testimator lgbm's best error=0.0106,\tbest estimator lgbm's best error=0.0106\n"
     ]
    },
    {
     "name": "stderr",
     "output_type": "stream",
     "text": [
      "[flaml.automl: 10-29 23:23:04] {1793} INFO - iteration 7, current learner lgbm\n"
     ]
    },
    {
     "name": "stderr",
     "output_type": "stream",
     "text": [
      "[flaml.automl: 10-29 23:23:04] {1981} INFO -  at 4.3s,\testimator lgbm's best error=0.0106,\tbest estimator lgbm's best error=0.0106\n"
     ]
    },
    {
     "name": "stderr",
     "output_type": "stream",
     "text": [
      "[flaml.automl: 10-29 23:23:04] {1793} INFO - iteration 8, current learner lgbm\n"
     ]
    },
    {
     "name": "stderr",
     "output_type": "stream",
     "text": [
      "[flaml.automl: 10-29 23:23:05] {1981} INFO -  at 5.0s,\testimator lgbm's best error=0.0059,\tbest estimator lgbm's best error=0.0059\n"
     ]
    },
    {
     "name": "stderr",
     "output_type": "stream",
     "text": [
      "[flaml.automl: 10-29 23:23:05] {1793} INFO - iteration 9, current learner xgboost\n"
     ]
    },
    {
     "name": "stderr",
     "output_type": "stream",
     "text": [
      "[flaml.automl: 10-29 23:23:06] {1981} INFO -  at 6.6s,\testimator xgboost's best error=8.5517,\tbest estimator lgbm's best error=0.0059\n"
     ]
    },
    {
     "name": "stderr",
     "output_type": "stream",
     "text": [
      "[flaml.automl: 10-29 23:23:06] {1793} INFO - iteration 10, current learner extra_tree\n"
     ]
    },
    {
     "name": "stderr",
     "output_type": "stream",
     "text": [
      "[flaml.automl: 10-29 23:23:06] {1981} INFO -  at 6.8s,\testimator extra_tree's best error=0.3683,\tbest estimator lgbm's best error=0.0059\n"
     ]
    },
    {
     "name": "stderr",
     "output_type": "stream",
     "text": [
      "[flaml.automl: 10-29 23:23:06] {1793} INFO - iteration 11, current learner extra_tree\n"
     ]
    },
    {
     "name": "stderr",
     "output_type": "stream",
     "text": [
      "[flaml.automl: 10-29 23:23:07] {1981} INFO -  at 6.9s,\testimator extra_tree's best error=0.0196,\tbest estimator lgbm's best error=0.0059\n"
     ]
    },
    {
     "name": "stderr",
     "output_type": "stream",
     "text": [
      "[flaml.automl: 10-29 23:23:07] {1793} INFO - iteration 12, current learner extra_tree\n"
     ]
    },
    {
     "name": "stderr",
     "output_type": "stream",
     "text": [
      "[flaml.automl: 10-29 23:23:07] {1981} INFO -  at 7.1s,\testimator extra_tree's best error=0.0196,\tbest estimator lgbm's best error=0.0059\n"
     ]
    },
    {
     "name": "stderr",
     "output_type": "stream",
     "text": [
      "[flaml.automl: 10-29 23:23:07] {1793} INFO - iteration 13, current learner extra_tree\n"
     ]
    },
    {
     "name": "stderr",
     "output_type": "stream",
     "text": [
      "[flaml.automl: 10-29 23:23:07] {1981} INFO -  at 7.3s,\testimator extra_tree's best error=0.0031,\tbest estimator extra_tree's best error=0.0031\n"
     ]
    },
    {
     "name": "stderr",
     "output_type": "stream",
     "text": [
      "[flaml.automl: 10-29 23:23:07] {1793} INFO - iteration 14, current learner extra_tree\n"
     ]
    },
    {
     "name": "stderr",
     "output_type": "stream",
     "text": [
      "[flaml.automl: 10-29 23:23:07] {1981} INFO -  at 7.6s,\testimator extra_tree's best error=0.0012,\tbest estimator extra_tree's best error=0.0012\n"
     ]
    },
    {
     "name": "stderr",
     "output_type": "stream",
     "text": [
      "[flaml.automl: 10-29 23:23:07] {1793} INFO - iteration 15, current learner extra_tree\n"
     ]
    },
    {
     "name": "stderr",
     "output_type": "stream",
     "text": [
      "[flaml.automl: 10-29 23:23:08] {1981} INFO -  at 7.9s,\testimator extra_tree's best error=0.0012,\tbest estimator extra_tree's best error=0.0012\n"
     ]
    },
    {
     "name": "stderr",
     "output_type": "stream",
     "text": [
      "[flaml.automl: 10-29 23:23:08] {1793} INFO - iteration 16, current learner extra_tree\n"
     ]
    },
    {
     "name": "stderr",
     "output_type": "stream",
     "text": [
      "[flaml.automl: 10-29 23:23:08] {1981} INFO -  at 8.2s,\testimator extra_tree's best error=0.0002,\tbest estimator extra_tree's best error=0.0002\n"
     ]
    },
    {
     "name": "stderr",
     "output_type": "stream",
     "text": [
      "[flaml.automl: 10-29 23:23:08] {1793} INFO - iteration 17, current learner lgbm\n"
     ]
    },
    {
     "name": "stderr",
     "output_type": "stream",
     "text": [
      "[flaml.automl: 10-29 23:23:08] {1981} INFO -  at 8.7s,\testimator lgbm's best error=0.0059,\tbest estimator extra_tree's best error=0.0002\n"
     ]
    },
    {
     "name": "stderr",
     "output_type": "stream",
     "text": [
      "[flaml.automl: 10-29 23:23:08] {1793} INFO - iteration 18, current learner extra_tree\n"
     ]
    },
    {
     "name": "stderr",
     "output_type": "stream",
     "text": [
      "[flaml.automl: 10-29 23:23:09] {1981} INFO -  at 8.9s,\testimator extra_tree's best error=0.0002,\tbest estimator extra_tree's best error=0.0002\n"
     ]
    },
    {
     "name": "stderr",
     "output_type": "stream",
     "text": [
      "[flaml.automl: 10-29 23:23:09] {1793} INFO - iteration 19, current learner extra_tree\n"
     ]
    },
    {
     "name": "stderr",
     "output_type": "stream",
     "text": [
      "[flaml.automl: 10-29 23:23:09] {1981} INFO -  at 9.4s,\testimator extra_tree's best error=0.0002,\tbest estimator extra_tree's best error=0.0002\n"
     ]
    },
    {
     "name": "stderr",
     "output_type": "stream",
     "text": [
      "[flaml.automl: 10-29 23:23:09] {1793} INFO - iteration 20, current learner extra_tree\n"
     ]
    },
    {
     "name": "stderr",
     "output_type": "stream",
     "text": [
      "[flaml.automl: 10-29 23:23:09] {1981} INFO -  at 9.6s,\testimator extra_tree's best error=0.0001,\tbest estimator extra_tree's best error=0.0001\n"
     ]
    },
    {
     "name": "stderr",
     "output_type": "stream",
     "text": [
      "[flaml.automl: 10-29 23:23:09] {1793} INFO - iteration 21, current learner xgboost\n"
     ]
    },
    {
     "name": "stderr",
     "output_type": "stream",
     "text": [
      "[flaml.automl: 10-29 23:23:09] {1981} INFO -  at 9.8s,\testimator xgboost's best error=8.5517,\tbest estimator extra_tree's best error=0.0001\n"
     ]
    },
    {
     "name": "stderr",
     "output_type": "stream",
     "text": [
      "[flaml.automl: 10-29 23:23:09] {1793} INFO - iteration 22, current learner xgboost\n"
     ]
    },
    {
     "name": "stderr",
     "output_type": "stream",
     "text": [
      "[flaml.automl: 10-29 23:23:10] {1981} INFO -  at 9.9s,\testimator xgboost's best error=1.9272,\tbest estimator extra_tree's best error=0.0001\n"
     ]
    },
    {
     "name": "stderr",
     "output_type": "stream",
     "text": [
      "[flaml.automl: 10-29 23:23:10] {1793} INFO - iteration 23, current learner extra_tree\n"
     ]
    },
    {
     "name": "stderr",
     "output_type": "stream",
     "text": [
      "[flaml.automl: 10-29 23:23:10] {1981} INFO -  at 10.1s,\testimator extra_tree's best error=0.0001,\tbest estimator extra_tree's best error=0.0001\n"
     ]
    },
    {
     "name": "stderr",
     "output_type": "stream",
     "text": [
      "[flaml.automl: 10-29 23:23:10] {1793} INFO - iteration 24, current learner extra_tree\n"
     ]
    },
    {
     "name": "stderr",
     "output_type": "stream",
     "text": [
      "[flaml.automl: 10-29 23:23:10] {1981} INFO -  at 10.5s,\testimator extra_tree's best error=0.0001,\tbest estimator extra_tree's best error=0.0001\n"
     ]
    },
    {
     "name": "stderr",
     "output_type": "stream",
     "text": [
      "[flaml.automl: 10-29 23:23:10] {1793} INFO - iteration 25, current learner xgboost\n"
     ]
    },
    {
     "name": "stderr",
     "output_type": "stream",
     "text": [
      "[flaml.automl: 10-29 23:23:11] {1981} INFO -  at 11.2s,\testimator xgboost's best error=0.1008,\tbest estimator extra_tree's best error=0.0001\n"
     ]
    },
    {
     "name": "stderr",
     "output_type": "stream",
     "text": [
      "[flaml.automl: 10-29 23:23:11] {1793} INFO - iteration 26, current learner extra_tree\n"
     ]
    },
    {
     "name": "stderr",
     "output_type": "stream",
     "text": [
      "[flaml.automl: 10-29 23:23:11] {1981} INFO -  at 11.4s,\testimator extra_tree's best error=0.0001,\tbest estimator extra_tree's best error=0.0001\n"
     ]
    },
    {
     "name": "stderr",
     "output_type": "stream",
     "text": [
      "[flaml.automl: 10-29 23:23:11] {1793} INFO - iteration 27, current learner extra_tree\n"
     ]
    },
    {
     "name": "stderr",
     "output_type": "stream",
     "text": [
      "[flaml.automl: 10-29 23:23:12] {1981} INFO -  at 12.3s,\testimator extra_tree's best error=0.0000,\tbest estimator extra_tree's best error=0.0000\n"
     ]
    },
    {
     "name": "stderr",
     "output_type": "stream",
     "text": [
      "[flaml.automl: 10-29 23:23:12] {1793} INFO - iteration 28, current learner extra_tree\n"
     ]
    },
    {
     "name": "stderr",
     "output_type": "stream",
     "text": [
      "[flaml.automl: 10-29 23:23:12] {1981} INFO -  at 12.7s,\testimator extra_tree's best error=0.0000,\tbest estimator extra_tree's best error=0.0000\n"
     ]
    },
    {
     "name": "stderr",
     "output_type": "stream",
     "text": [
      "[flaml.automl: 10-29 23:23:12] {1793} INFO - iteration 29, current learner xgboost\n"
     ]
    },
    {
     "name": "stderr",
     "output_type": "stream",
     "text": [
      "[flaml.automl: 10-29 23:23:13] {1981} INFO -  at 12.9s,\testimator xgboost's best error=0.1008,\tbest estimator extra_tree's best error=0.0000\n"
     ]
    },
    {
     "name": "stderr",
     "output_type": "stream",
     "text": [
      "[flaml.automl: 10-29 23:23:13] {1793} INFO - iteration 30, current learner lgbm\n"
     ]
    },
    {
     "name": "stderr",
     "output_type": "stream",
     "text": [
      "[flaml.automl: 10-29 23:23:14] {1981} INFO -  at 14.3s,\testimator lgbm's best error=0.0004,\tbest estimator extra_tree's best error=0.0000\n"
     ]
    },
    {
     "name": "stderr",
     "output_type": "stream",
     "text": [
      "[flaml.automl: 10-29 23:23:14] {1793} INFO - iteration 31, current learner lgbm\n"
     ]
    },
    {
     "name": "stderr",
     "output_type": "stream",
     "text": [
      "[flaml.automl: 10-29 23:23:16] {1981} INFO -  at 16.3s,\testimator lgbm's best error=0.0003,\tbest estimator extra_tree's best error=0.0000\n"
     ]
    },
    {
     "name": "stderr",
     "output_type": "stream",
     "text": [
      "[flaml.automl: 10-29 23:23:16] {1793} INFO - iteration 32, current learner extra_tree\n"
     ]
    },
    {
     "name": "stderr",
     "output_type": "stream",
     "text": [
      "[flaml.automl: 10-29 23:23:17] {1981} INFO -  at 17.3s,\testimator extra_tree's best error=0.0000,\tbest estimator extra_tree's best error=0.0000\n"
     ]
    },
    {
     "name": "stderr",
     "output_type": "stream",
     "text": [
      "[flaml.automl: 10-29 23:23:17] {1793} INFO - iteration 33, current learner xgboost\n"
     ]
    },
    {
     "name": "stderr",
     "output_type": "stream",
     "text": [
      "[flaml.automl: 10-29 23:23:17] {1981} INFO -  at 17.5s,\testimator xgboost's best error=0.1008,\tbest estimator extra_tree's best error=0.0000\n"
     ]
    },
    {
     "name": "stderr",
     "output_type": "stream",
     "text": [
      "[flaml.automl: 10-29 23:23:17] {1793} INFO - iteration 34, current learner xgboost\n"
     ]
    },
    {
     "name": "stderr",
     "output_type": "stream",
     "text": [
      "[flaml.automl: 10-29 23:23:18] {1981} INFO -  at 17.8s,\testimator xgboost's best error=0.0234,\tbest estimator extra_tree's best error=0.0000\n"
     ]
    },
    {
     "name": "stderr",
     "output_type": "stream",
     "text": [
      "[flaml.automl: 10-29 23:23:18] {1793} INFO - iteration 35, current learner extra_tree\n"
     ]
    },
    {
     "name": "stderr",
     "output_type": "stream",
     "text": [
      "[flaml.automl: 10-29 23:23:18] {1981} INFO -  at 18.4s,\testimator extra_tree's best error=0.0000,\tbest estimator extra_tree's best error=0.0000\n"
     ]
    },
    {
     "name": "stderr",
     "output_type": "stream",
     "text": [
      "[flaml.automl: 10-29 23:23:18] {1793} INFO - iteration 36, current learner extra_tree\n"
     ]
    },
    {
     "name": "stderr",
     "output_type": "stream",
     "text": [
      "[flaml.automl: 10-29 23:23:19] {1981} INFO -  at 19.4s,\testimator extra_tree's best error=0.0000,\tbest estimator extra_tree's best error=0.0000\n"
     ]
    },
    {
     "name": "stderr",
     "output_type": "stream",
     "text": [
      "[flaml.automl: 10-29 23:23:19] {1793} INFO - iteration 37, current learner extra_tree\n"
     ]
    },
    {
     "name": "stderr",
     "output_type": "stream",
     "text": [
      "[flaml.automl: 10-29 23:23:20] {1981} INFO -  at 20.3s,\testimator extra_tree's best error=0.0000,\tbest estimator extra_tree's best error=0.0000\n"
     ]
    },
    {
     "name": "stderr",
     "output_type": "stream",
     "text": [
      "[flaml.automl: 10-29 23:23:20] {1793} INFO - iteration 38, current learner xgboost\n"
     ]
    },
    {
     "name": "stderr",
     "output_type": "stream",
     "text": [
      "[flaml.automl: 10-29 23:23:20] {1981} INFO -  at 20.7s,\testimator xgboost's best error=0.0160,\tbest estimator extra_tree's best error=0.0000\n"
     ]
    },
    {
     "name": "stderr",
     "output_type": "stream",
     "text": [
      "[flaml.automl: 10-29 23:23:20] {1793} INFO - iteration 39, current learner rf\n"
     ]
    },
    {
     "name": "stderr",
     "output_type": "stream",
     "text": [
      "[flaml.automl: 10-29 23:23:21] {1981} INFO -  at 20.9s,\testimator rf's best error=0.2189,\tbest estimator extra_tree's best error=0.0000\n"
     ]
    },
    {
     "name": "stderr",
     "output_type": "stream",
     "text": [
      "[flaml.automl: 10-29 23:23:21] {1793} INFO - iteration 40, current learner xgboost\n"
     ]
    },
    {
     "name": "stderr",
     "output_type": "stream",
     "text": [
      "[flaml.automl: 10-29 23:23:21] {1981} INFO -  at 21.2s,\testimator xgboost's best error=0.0153,\tbest estimator extra_tree's best error=0.0000\n"
     ]
    },
    {
     "name": "stderr",
     "output_type": "stream",
     "text": [
      "[flaml.automl: 10-29 23:23:21] {1793} INFO - iteration 41, current learner extra_tree\n"
     ]
    },
    {
     "name": "stderr",
     "output_type": "stream",
     "text": [
      "[flaml.automl: 10-29 23:23:22] {1981} INFO -  at 21.9s,\testimator extra_tree's best error=0.0000,\tbest estimator extra_tree's best error=0.0000\n"
     ]
    },
    {
     "name": "stderr",
     "output_type": "stream",
     "text": [
      "[flaml.automl: 10-29 23:23:22] {1793} INFO - iteration 42, current learner lgbm\n"
     ]
    },
    {
     "name": "stderr",
     "output_type": "stream",
     "text": [
      "[flaml.automl: 10-29 23:23:23] {1981} INFO -  at 23.3s,\testimator lgbm's best error=0.0003,\tbest estimator extra_tree's best error=0.0000\n"
     ]
    },
    {
     "name": "stderr",
     "output_type": "stream",
     "text": [
      "[flaml.automl: 10-29 23:23:23] {1793} INFO - iteration 43, current learner rf\n"
     ]
    },
    {
     "name": "stderr",
     "output_type": "stream",
     "text": [
      "[flaml.automl: 10-29 23:23:23] {1981} INFO -  at 23.7s,\testimator rf's best error=0.0166,\tbest estimator extra_tree's best error=0.0000\n"
     ]
    },
    {
     "name": "stderr",
     "output_type": "stream",
     "text": [
      "[flaml.automl: 10-29 23:23:23] {1793} INFO - iteration 44, current learner extra_tree\n"
     ]
    },
    {
     "name": "stderr",
     "output_type": "stream",
     "text": [
      "[flaml.automl: 10-29 23:23:25] {1981} INFO -  at 25.1s,\testimator extra_tree's best error=0.0000,\tbest estimator extra_tree's best error=0.0000\n"
     ]
    },
    {
     "name": "stderr",
     "output_type": "stream",
     "text": [
      "[flaml.automl: 10-29 23:23:25] {1793} INFO - iteration 45, current learner rf\n"
     ]
    },
    {
     "name": "stderr",
     "output_type": "stream",
     "text": [
      "[flaml.automl: 10-29 23:23:25] {1981} INFO -  at 25.7s,\testimator rf's best error=0.0166,\tbest estimator extra_tree's best error=0.0000\n"
     ]
    },
    {
     "name": "stderr",
     "output_type": "stream",
     "text": [
      "[flaml.automl: 10-29 23:23:25] {1793} INFO - iteration 46, current learner rf\n"
     ]
    },
    {
     "name": "stderr",
     "output_type": "stream",
     "text": [
      "[flaml.automl: 10-29 23:23:26] {1981} INFO -  at 26.7s,\testimator rf's best error=0.0006,\tbest estimator extra_tree's best error=0.0000\n"
     ]
    },
    {
     "name": "stderr",
     "output_type": "stream",
     "text": [
      "[flaml.automl: 10-29 23:23:26] {1793} INFO - iteration 47, current learner extra_tree\n"
     ]
    },
    {
     "name": "stderr",
     "output_type": "stream",
     "text": [
      "[flaml.automl: 10-29 23:23:27] {1981} INFO -  at 27.1s,\testimator extra_tree's best error=0.0000,\tbest estimator extra_tree's best error=0.0000\n"
     ]
    },
    {
     "name": "stderr",
     "output_type": "stream",
     "text": [
      "[flaml.automl: 10-29 23:23:27] {1793} INFO - iteration 48, current learner rf\n"
     ]
    },
    {
     "name": "stderr",
     "output_type": "stream",
     "text": [
      "[flaml.automl: 10-29 23:23:27] {1981} INFO -  at 27.7s,\testimator rf's best error=0.0002,\tbest estimator extra_tree's best error=0.0000\n"
     ]
    },
    {
     "name": "stderr",
     "output_type": "stream",
     "text": [
      "[flaml.automl: 10-29 23:23:27] {1793} INFO - iteration 49, current learner rf\n"
     ]
    },
    {
     "name": "stderr",
     "output_type": "stream",
     "text": [
      "[flaml.automl: 10-29 23:23:28] {1981} INFO -  at 28.4s,\testimator rf's best error=0.0002,\tbest estimator extra_tree's best error=0.0000\n"
     ]
    },
    {
     "name": "stderr",
     "output_type": "stream",
     "text": [
      "[flaml.automl: 10-29 23:23:28] {1793} INFO - iteration 50, current learner extra_tree\n"
     ]
    },
    {
     "name": "stderr",
     "output_type": "stream",
     "text": [
      "[flaml.automl: 10-29 23:23:28] {1981} INFO -  at 28.8s,\testimator extra_tree's best error=0.0000,\tbest estimator extra_tree's best error=0.0000\n"
     ]
    },
    {
     "name": "stderr",
     "output_type": "stream",
     "text": [
      "[flaml.automl: 10-29 23:23:28] {1793} INFO - iteration 51, current learner rf\n"
     ]
    },
    {
     "name": "stderr",
     "output_type": "stream",
     "text": [
      "[flaml.automl: 10-29 23:23:29] {1981} INFO -  at 29.7s,\testimator rf's best error=0.0002,\tbest estimator extra_tree's best error=0.0000\n"
     ]
    },
    {
     "name": "stderr",
     "output_type": "stream",
     "text": [
      "[flaml.automl: 10-29 23:23:29] {1793} INFO - iteration 52, current learner xgboost\n"
     ]
    },
    {
     "name": "stderr",
     "output_type": "stream",
     "text": [
      "[flaml.automl: 10-29 23:23:30] {1981} INFO -  at 30.0s,\testimator xgboost's best error=0.0031,\tbest estimator extra_tree's best error=0.0000\n"
     ]
    },
    {
     "name": "stderr",
     "output_type": "stream",
     "text": [
      "[flaml.automl: 10-29 23:23:30] {1793} INFO - iteration 53, current learner xgboost\n"
     ]
    },
    {
     "name": "stderr",
     "output_type": "stream",
     "text": [
      "[flaml.automl: 10-29 23:23:30] {1981} INFO -  at 30.2s,\testimator xgboost's best error=0.0031,\tbest estimator extra_tree's best error=0.0000\n"
     ]
    },
    {
     "name": "stderr",
     "output_type": "stream",
     "text": [
      "[flaml.automl: 10-29 23:23:30] {1793} INFO - iteration 54, current learner xgboost\n"
     ]
    },
    {
     "name": "stderr",
     "output_type": "stream",
     "text": [
      "[flaml.automl: 10-29 23:23:30] {1981} INFO -  at 30.4s,\testimator xgboost's best error=0.0031,\tbest estimator extra_tree's best error=0.0000\n"
     ]
    },
    {
     "name": "stderr",
     "output_type": "stream",
     "text": [
      "[flaml.automl: 10-29 23:23:30] {1793} INFO - iteration 55, current learner xgboost\n"
     ]
    },
    {
     "name": "stderr",
     "output_type": "stream",
     "text": [
      "[flaml.automl: 10-29 23:23:31] {1981} INFO -  at 30.9s,\testimator xgboost's best error=0.0025,\tbest estimator extra_tree's best error=0.0000\n"
     ]
    },
    {
     "name": "stderr",
     "output_type": "stream",
     "text": [
      "[flaml.automl: 10-29 23:23:31] {1793} INFO - iteration 56, current learner xgboost\n"
     ]
    },
    {
     "name": "stderr",
     "output_type": "stream",
     "text": [
      "[flaml.automl: 10-29 23:23:31] {1981} INFO -  at 31.1s,\testimator xgboost's best error=0.0025,\tbest estimator extra_tree's best error=0.0000\n"
     ]
    },
    {
     "name": "stderr",
     "output_type": "stream",
     "text": [
      "[flaml.automl: 10-29 23:23:31] {1793} INFO - iteration 57, current learner xgboost\n"
     ]
    },
    {
     "name": "stderr",
     "output_type": "stream",
     "text": [
      "[flaml.automl: 10-29 23:23:32] {1981} INFO -  at 32.0s,\testimator xgboost's best error=0.0025,\tbest estimator extra_tree's best error=0.0000\n"
     ]
    },
    {
     "name": "stderr",
     "output_type": "stream",
     "text": [
      "[flaml.automl: 10-29 23:23:32] {1793} INFO - iteration 58, current learner extra_tree\n"
     ]
    },
    {
     "name": "stderr",
     "output_type": "stream",
     "text": [
      "[flaml.automl: 10-29 23:23:33] {1981} INFO -  at 33.1s,\testimator extra_tree's best error=0.0000,\tbest estimator extra_tree's best error=0.0000\n"
     ]
    },
    {
     "name": "stderr",
     "output_type": "stream",
     "text": [
      "[flaml.automl: 10-29 23:23:33] {1793} INFO - iteration 59, current learner lgbm\n"
     ]
    },
    {
     "name": "stderr",
     "output_type": "stream",
     "text": [
      "[flaml.automl: 10-29 23:23:34] {1981} INFO -  at 34.6s,\testimator lgbm's best error=0.0001,\tbest estimator extra_tree's best error=0.0000\n"
     ]
    },
    {
     "name": "stderr",
     "output_type": "stream",
     "text": [
      "[flaml.automl: 10-29 23:23:34] {1793} INFO - iteration 60, current learner xgboost\n"
     ]
    },
    {
     "name": "stderr",
     "output_type": "stream",
     "text": [
      "[flaml.automl: 10-29 23:23:35] {1981} INFO -  at 35.2s,\testimator xgboost's best error=0.0025,\tbest estimator extra_tree's best error=0.0000\n"
     ]
    },
    {
     "name": "stderr",
     "output_type": "stream",
     "text": [
      "[flaml.automl: 10-29 23:23:35] {1793} INFO - iteration 61, current learner lgbm\n"
     ]
    },
    {
     "name": "stderr",
     "output_type": "stream",
     "text": [
      "[flaml.automl: 10-29 23:23:37] {1981} INFO -  at 37.7s,\testimator lgbm's best error=0.0001,\tbest estimator extra_tree's best error=0.0000\n"
     ]
    },
    {
     "name": "stderr",
     "output_type": "stream",
     "text": [
      "[flaml.automl: 10-29 23:23:37] {1793} INFO - iteration 62, current learner extra_tree\n"
     ]
    },
    {
     "name": "stderr",
     "output_type": "stream",
     "text": [
      "[flaml.automl: 10-29 23:23:38] {1981} INFO -  at 38.2s,\testimator extra_tree's best error=0.0000,\tbest estimator extra_tree's best error=0.0000\n"
     ]
    },
    {
     "name": "stderr",
     "output_type": "stream",
     "text": [
      "[flaml.automl: 10-29 23:23:38] {1793} INFO - iteration 63, current learner extra_tree\n"
     ]
    },
    {
     "name": "stderr",
     "output_type": "stream",
     "text": [
      "[flaml.automl: 10-29 23:23:38] {1981} INFO -  at 38.6s,\testimator extra_tree's best error=0.0000,\tbest estimator extra_tree's best error=0.0000\n"
     ]
    },
    {
     "name": "stderr",
     "output_type": "stream",
     "text": [
      "[flaml.automl: 10-29 23:23:38] {1793} INFO - iteration 64, current learner lgbm\n"
     ]
    },
    {
     "name": "stderr",
     "output_type": "stream",
     "text": [
      "[flaml.automl: 10-29 23:23:40] {1981} INFO -  at 40.7s,\testimator lgbm's best error=0.0001,\tbest estimator extra_tree's best error=0.0000\n"
     ]
    },
    {
     "name": "stderr",
     "output_type": "stream",
     "text": [
      "[flaml.automl: 10-29 23:23:40] {1793} INFO - iteration 65, current learner xgboost\n"
     ]
    },
    {
     "name": "stderr",
     "output_type": "stream",
     "text": [
      "[flaml.automl: 10-29 23:23:41] {1981} INFO -  at 41.4s,\testimator xgboost's best error=0.0025,\tbest estimator extra_tree's best error=0.0000\n"
     ]
    },
    {
     "name": "stderr",
     "output_type": "stream",
     "text": [
      "[flaml.automl: 10-29 23:23:41] {1793} INFO - iteration 66, current learner extra_tree\n"
     ]
    },
    {
     "name": "stderr",
     "output_type": "stream",
     "text": [
      "[flaml.automl: 10-29 23:23:42] {1981} INFO -  at 42.1s,\testimator extra_tree's best error=0.0000,\tbest estimator extra_tree's best error=0.0000\n"
     ]
    },
    {
     "name": "stderr",
     "output_type": "stream",
     "text": [
      "[flaml.automl: 10-29 23:23:42] {1793} INFO - iteration 67, current learner xgboost\n"
     ]
    },
    {
     "name": "stderr",
     "output_type": "stream",
     "text": [
      "[flaml.automl: 10-29 23:23:42] {1981} INFO -  at 42.3s,\testimator xgboost's best error=0.0025,\tbest estimator extra_tree's best error=0.0000\n"
     ]
    },
    {
     "name": "stderr",
     "output_type": "stream",
     "text": [
      "[flaml.automl: 10-29 23:23:42] {1793} INFO - iteration 68, current learner lgbm\n"
     ]
    },
    {
     "name": "stderr",
     "output_type": "stream",
     "text": [
      "[flaml.automl: 10-29 23:23:43] {1981} INFO -  at 43.6s,\testimator lgbm's best error=0.0001,\tbest estimator extra_tree's best error=0.0000\n"
     ]
    },
    {
     "name": "stderr",
     "output_type": "stream",
     "text": [
      "[flaml.automl: 10-29 23:23:43] {1793} INFO - iteration 69, current learner extra_tree\n"
     ]
    },
    {
     "name": "stderr",
     "output_type": "stream",
     "text": [
      "[flaml.automl: 10-29 23:23:44] {1981} INFO -  at 43.9s,\testimator extra_tree's best error=0.0000,\tbest estimator extra_tree's best error=0.0000\n"
     ]
    },
    {
     "name": "stderr",
     "output_type": "stream",
     "text": [
      "[flaml.automl: 10-29 23:23:44] {1793} INFO - iteration 70, current learner extra_tree\n"
     ]
    },
    {
     "name": "stderr",
     "output_type": "stream",
     "text": [
      "[flaml.automl: 10-29 23:23:44] {1981} INFO -  at 44.3s,\testimator extra_tree's best error=0.0000,\tbest estimator extra_tree's best error=0.0000\n"
     ]
    },
    {
     "name": "stderr",
     "output_type": "stream",
     "text": [
      "[flaml.automl: 10-29 23:23:44] {1793} INFO - iteration 71, current learner extra_tree\n"
     ]
    },
    {
     "name": "stderr",
     "output_type": "stream",
     "text": [
      "[flaml.automl: 10-29 23:23:44] {1981} INFO -  at 44.8s,\testimator extra_tree's best error=0.0000,\tbest estimator extra_tree's best error=0.0000\n"
     ]
    },
    {
     "name": "stderr",
     "output_type": "stream",
     "text": [
      "[flaml.automl: 10-29 23:23:44] {1793} INFO - iteration 72, current learner extra_tree\n"
     ]
    },
    {
     "name": "stderr",
     "output_type": "stream",
     "text": [
      "[flaml.automl: 10-29 23:23:45] {1981} INFO -  at 45.1s,\testimator extra_tree's best error=0.0000,\tbest estimator extra_tree's best error=0.0000\n"
     ]
    },
    {
     "name": "stderr",
     "output_type": "stream",
     "text": [
      "[flaml.automl: 10-29 23:23:45] {1793} INFO - iteration 73, current learner extra_tree\n"
     ]
    },
    {
     "name": "stderr",
     "output_type": "stream",
     "text": [
      "[flaml.automl: 10-29 23:23:46] {1981} INFO -  at 45.8s,\testimator extra_tree's best error=0.0000,\tbest estimator extra_tree's best error=0.0000\n"
     ]
    },
    {
     "name": "stderr",
     "output_type": "stream",
     "text": [
      "[flaml.automl: 10-29 23:23:46] {1793} INFO - iteration 74, current learner extra_tree\n"
     ]
    },
    {
     "name": "stderr",
     "output_type": "stream",
     "text": [
      "[flaml.automl: 10-29 23:23:46] {1981} INFO -  at 46.3s,\testimator extra_tree's best error=0.0000,\tbest estimator extra_tree's best error=0.0000\n"
     ]
    },
    {
     "name": "stderr",
     "output_type": "stream",
     "text": [
      "[flaml.automl: 10-29 23:23:46] {1793} INFO - iteration 75, current learner lgbm\n"
     ]
    },
    {
     "name": "stderr",
     "output_type": "stream",
     "text": [
      "[flaml.automl: 10-29 23:23:48] {1981} INFO -  at 47.9s,\testimator lgbm's best error=0.0001,\tbest estimator extra_tree's best error=0.0000\n"
     ]
    },
    {
     "name": "stderr",
     "output_type": "stream",
     "text": [
      "[flaml.automl: 10-29 23:23:48] {1793} INFO - iteration 76, current learner lgbm\n"
     ]
    },
    {
     "name": "stderr",
     "output_type": "stream",
     "text": [
      "[flaml.automl: 10-29 23:23:50] {1981} INFO -  at 49.9s,\testimator lgbm's best error=0.0001,\tbest estimator extra_tree's best error=0.0000\n"
     ]
    },
    {
     "name": "stderr",
     "output_type": "stream",
     "text": [
      "[flaml.automl: 10-29 23:23:50] {1793} INFO - iteration 77, current learner extra_tree\n"
     ]
    },
    {
     "name": "stderr",
     "output_type": "stream",
     "text": [
      "[flaml.automl: 10-29 23:23:50] {1981} INFO -  at 50.5s,\testimator extra_tree's best error=0.0000,\tbest estimator extra_tree's best error=0.0000\n"
     ]
    },
    {
     "name": "stderr",
     "output_type": "stream",
     "text": [
      "[flaml.automl: 10-29 23:23:50] {1793} INFO - iteration 78, current learner xgboost\n"
     ]
    },
    {
     "name": "stderr",
     "output_type": "stream",
     "text": [
      "[flaml.automl: 10-29 23:23:52] {1981} INFO -  at 52.8s,\testimator xgboost's best error=0.0025,\tbest estimator extra_tree's best error=0.0000\n"
     ]
    },
    {
     "name": "stderr",
     "output_type": "stream",
     "text": [
      "[flaml.automl: 10-29 23:23:52] {1793} INFO - iteration 79, current learner lgbm\n"
     ]
    },
    {
     "name": "stderr",
     "output_type": "stream",
     "text": [
      "[flaml.automl: 10-29 23:23:53] {1981} INFO -  at 53.5s,\testimator lgbm's best error=0.0001,\tbest estimator extra_tree's best error=0.0000\n"
     ]
    },
    {
     "name": "stderr",
     "output_type": "stream",
     "text": [
      "[flaml.automl: 10-29 23:23:53] {1793} INFO - iteration 80, current learner extra_tree\n"
     ]
    },
    {
     "name": "stderr",
     "output_type": "stream",
     "text": [
      "[flaml.automl: 10-29 23:23:54] {1981} INFO -  at 54.5s,\testimator extra_tree's best error=0.0000,\tbest estimator extra_tree's best error=0.0000\n"
     ]
    },
    {
     "name": "stderr",
     "output_type": "stream",
     "text": [
      "[flaml.automl: 10-29 23:23:54] {1793} INFO - iteration 81, current learner xgboost\n"
     ]
    },
    {
     "name": "stderr",
     "output_type": "stream",
     "text": [
      "[flaml.automl: 10-29 23:23:54] {1981} INFO -  at 54.8s,\testimator xgboost's best error=0.0025,\tbest estimator extra_tree's best error=0.0000\n"
     ]
    },
    {
     "name": "stderr",
     "output_type": "stream",
     "text": [
      "[flaml.automl: 10-29 23:23:54] {1793} INFO - iteration 82, current learner extra_tree\n"
     ]
    },
    {
     "name": "stderr",
     "output_type": "stream",
     "text": [
      "[flaml.automl: 10-29 23:23:55] {1981} INFO -  at 55.3s,\testimator extra_tree's best error=0.0000,\tbest estimator extra_tree's best error=0.0000\n"
     ]
    },
    {
     "name": "stderr",
     "output_type": "stream",
     "text": [
      "[flaml.automl: 10-29 23:23:55] {1793} INFO - iteration 83, current learner extra_tree\n"
     ]
    },
    {
     "name": "stderr",
     "output_type": "stream",
     "text": [
      "[flaml.automl: 10-29 23:23:56] {1981} INFO -  at 55.9s,\testimator extra_tree's best error=0.0000,\tbest estimator extra_tree's best error=0.0000\n"
     ]
    },
    {
     "name": "stderr",
     "output_type": "stream",
     "text": [
      "[flaml.automl: 10-29 23:23:56] {1793} INFO - iteration 84, current learner extra_tree\n"
     ]
    },
    {
     "name": "stderr",
     "output_type": "stream",
     "text": [
      "[flaml.automl: 10-29 23:23:58] {1981} INFO -  at 57.8s,\testimator extra_tree's best error=0.0000,\tbest estimator extra_tree's best error=0.0000\n"
     ]
    },
    {
     "name": "stderr",
     "output_type": "stream",
     "text": [
      "[flaml.automl: 10-29 23:23:58] {1793} INFO - iteration 85, current learner extra_tree\n"
     ]
    },
    {
     "name": "stderr",
     "output_type": "stream",
     "text": [
      "[flaml.automl: 10-29 23:23:59] {1981} INFO -  at 59.4s,\testimator extra_tree's best error=0.0000,\tbest estimator extra_tree's best error=0.0000\n"
     ]
    },
    {
     "name": "stderr",
     "output_type": "stream",
     "text": [
      "[flaml.automl: 10-29 23:23:59] {1793} INFO - iteration 86, current learner xgboost\n"
     ]
    },
    {
     "name": "stderr",
     "output_type": "stream",
     "text": [
      "[flaml.automl: 10-29 23:24:02] {1981} INFO -  at 62.4s,\testimator xgboost's best error=0.0025,\tbest estimator extra_tree's best error=0.0000\n"
     ]
    },
    {
     "name": "stderr",
     "output_type": "stream",
     "text": [
      "[flaml.automl: 10-29 23:24:02] {2087} INFO - selected model: ExtraTreesRegressor(max_features=1.0, max_leaf_nodes=31532, n_estimators=31,\n",
      "                    n_jobs=-1)\n"
     ]
    },
    {
     "name": "stderr",
     "output_type": "stream",
     "text": [
      "[flaml.automl: 10-29 23:24:03] {2149} INFO - retrain extra_tree for 1.2s\n"
     ]
    },
    {
     "name": "stderr",
     "output_type": "stream",
     "text": [
      "[flaml.automl: 10-29 23:24:03] {2155} INFO - retrained model: ExtraTreesRegressor(max_features=1.0, max_leaf_nodes=31532, n_estimators=31,\n",
      "                    n_jobs=-1)\n"
     ]
    },
    {
     "name": "stderr",
     "output_type": "stream",
     "text": [
      "[flaml.automl: 10-29 23:24:03] {1576} INFO - fit succeeded\n"
     ]
    },
    {
     "name": "stderr",
     "output_type": "stream",
     "text": [
      "[flaml.automl: 10-29 23:24:03] {1577} INFO - Time taken to find the best model: 54.531593561172485\n"
     ]
    },
    {
     "name": "stderr",
     "output_type": "stream",
     "text": [
      "[flaml.automl: 10-29 23:24:03] {1588} WARNING - Time taken to find the best model is 91% of the provided time budget and not all estimators' hyperparameter search converged. Consider increasing the time budget.\n"
     ]
    }
   ],
   "source": [
    "x = df.drop(target, axis=1)\n",
    "y =df[target]\n",
    "from sklearn.model_selection import train_test_split \n",
    "x_train,x_test,y_train,y_test=train_test_split(x,y,test_size=0.2,random_state=45)\n",
    "\n",
    "#split data\n",
    "x_train.shape,x_test.shape,y_train.shape,y_test.shape\n",
    "\n",
    "#Run model\n",
    "from flaml import AutoML\n",
    "automl = AutoML()\n",
    "automl.fit(x_train, y_train, task=\"regression\")"
   ]
  },
  {
   "cell_type": "markdown",
   "id": "0eabcecb-9da9-4d8f-b071-04dbb220e65d",
   "metadata": {
    "papermill": {
     "duration": 1.081893,
     "end_time": "2021-10-29T17:54:06.021183",
     "exception": false,
     "start_time": "2021-10-29T17:54:04.939290",
     "status": "completed"
    },
    "tags": []
   },
   "source": [
    "### Best model"
   ]
  },
  {
   "cell_type": "code",
   "execution_count": 9,
   "id": "36f445e5-dabb-4f53-858c-d5dbf5076350",
   "metadata": {
    "execution": {
     "iopub.execute_input": "2021-10-29T17:54:09.639930Z",
     "iopub.status.busy": "2021-10-29T17:54:09.637781Z",
     "iopub.status.idle": "2021-10-29T17:54:09.664784Z",
     "shell.execute_reply": "2021-10-29T17:54:09.668776Z"
    },
    "papermill": {
     "duration": 2.159961,
     "end_time": "2021-10-29T17:54:09.671160",
     "exception": false,
     "start_time": "2021-10-29T17:54:07.511199",
     "status": "completed"
    },
    "tags": []
   },
   "outputs": [
    {
     "data": {
      "text/plain": [
       "<flaml.model.ExtraTreeEstimator at 0x1f1a7194d90>"
      ]
     },
     "execution_count": 9,
     "metadata": {},
     "output_type": "execute_result"
    }
   ],
   "source": [
    "# Export the best model\n",
    "automl.model"
   ]
  },
  {
   "cell_type": "markdown",
   "id": "d854d316-a47a-4b2a-99fc-af80f29eb248",
   "metadata": {
    "papermill": {
     "duration": 1.951987,
     "end_time": "2021-10-29T17:54:13.612095",
     "exception": false,
     "start_time": "2021-10-29T17:54:11.660108",
     "status": "completed"
    },
    "tags": []
   },
   "source": [
    "### Prediction on test data"
   ]
  },
  {
   "cell_type": "code",
   "execution_count": 10,
   "id": "0db96858-43a2-4538-82fd-9b677e640b18",
   "metadata": {
    "execution": {
     "iopub.execute_input": "2021-10-29T17:54:15.660442Z",
     "iopub.status.busy": "2021-10-29T17:54:15.652444Z",
     "iopub.status.idle": "2021-10-29T17:54:16.266973Z",
     "shell.execute_reply": "2021-10-29T17:54:16.267973Z"
    },
    "papermill": {
     "duration": 1.674543,
     "end_time": "2021-10-29T17:54:16.268973",
     "exception": false,
     "start_time": "2021-10-29T17:54:14.594430",
     "status": "completed"
    },
    "tags": []
   },
   "outputs": [
    {
     "data": {
      "text/plain": [
       "array([1.    , 1.    , 1.    , ..., 0.8136, 0.9639, 0.9915])"
      ]
     },
     "execution_count": 10,
     "metadata": {},
     "output_type": "execute_result"
    }
   ],
   "source": [
    "y_test_predict = automl.predict(x_test)\n",
    "y_test_predict"
   ]
  },
  {
   "cell_type": "markdown",
   "id": "d97104b8-018f-4e1d-b7e7-e87f37ee5686",
   "metadata": {
    "papermill": {
     "duration": 0.821498,
     "end_time": "2021-10-29T17:54:17.859583",
     "exception": false,
     "start_time": "2021-10-29T17:54:17.038085",
     "status": "completed"
    },
    "tags": []
   },
   "source": [
    "### Statistics and Plotting"
   ]
  },
  {
   "cell_type": "code",
   "execution_count": 11,
   "id": "331e07f0-cb38-467b-8886-69858322785f",
   "metadata": {
    "execution": {
     "iopub.execute_input": "2021-10-29T17:54:19.496743Z",
     "iopub.status.busy": "2021-10-29T17:54:19.495017Z",
     "iopub.status.idle": "2021-10-29T17:54:19.506083Z",
     "shell.execute_reply": "2021-10-29T17:54:19.507114Z"
    },
    "papermill": {
     "duration": 0.805356,
     "end_time": "2021-10-29T17:54:19.508100",
     "exception": false,
     "start_time": "2021-10-29T17:54:18.702744",
     "status": "completed"
    },
    "tags": []
   },
   "outputs": [
    {
     "name": "stdout",
     "output_type": "stream",
     "text": [
      "0.9998824726061882\n"
     ]
    }
   ],
   "source": [
    "# r2_score\n",
    "from sklearn.metrics import r2_score\n",
    "r2_y_test = r2_score(y_test, y_test_predict)\n",
    "print(r2_y_test)"
   ]
  },
  {
   "cell_type": "code",
   "execution_count": 12,
   "id": "d8946668-d912-45d8-801d-d9a230a4e3e1",
   "metadata": {
    "execution": {
     "iopub.execute_input": "2021-10-29T17:54:21.102620Z",
     "iopub.status.busy": "2021-10-29T17:54:21.098621Z",
     "iopub.status.idle": "2021-10-29T17:54:21.704762Z",
     "shell.execute_reply": "2021-10-29T17:54:21.702797Z"
    },
    "papermill": {
     "duration": 1.41859,
     "end_time": "2021-10-29T17:54:21.706284",
     "exception": false,
     "start_time": "2021-10-29T17:54:20.287694",
     "status": "completed"
    },
    "tags": []
   },
   "outputs": [
    {
     "data": {
      "image/png": "[encoded data removed]",
      "text/plain": [
       "<Figure size 432x288 with 1 Axes>"
      ]
     },
     "metadata": {
      "needs_background": "light"
     },
     "output_type": "display_data"
    }
   ],
   "source": [
    "# Visulization\n",
    "from sklearn.linear_model import LinearRegression\n",
    "from sklearn.model_selection import train_test_split\n",
    "df =()\n",
    "# Split data into training and test splits\n",
    "x_train,x_test,y_train,y_test=train_test_split(x,y,test_size=0.2,random_state=42)\n",
    "df = 'train'\n",
    "df = 'test'\n",
    "plt.scatter(y_test, y_test_predict)\n",
    "plt.show()"
   ]
  },
  {
   "cell_type": "code",
   "execution_count": null,
   "id": "1f32801e-76d1-4467-8c89-77eeec846859",
   "metadata": {
    "papermill": {
     "duration": 0.934472,
     "end_time": "2021-10-29T17:54:23.663423",
     "exception": false,
     "start_time": "2021-10-29T17:54:22.728951",
     "status": "completed"
    },
    "tags": []
   },
   "outputs": [],
   "source": []
  }
 ],
 "metadata": {
  "kernelspec": {
   "display_name": "Python 3",
   "language": "python",
   "name": "python3"
  },
  "language_info": {
   "codemirror_mode": {
    "name": "ipython",
    "version": 3
   },
   "file_extension": ".py",
   "mimetype": "text/x-python",
   "name": "python",
   "nbconvert_exporter": "python",
   "pygments_lexer": "ipython3",
   "version": "3.9.6"
  },
  "papermill": {
   "default_parameters": {},
   "duration": 115.837995,
   "end_time": "2021-10-29T17:54:25.238196",
   "environment_variables": {},
   "exception": null,
   "input_path": "ML\\Regression.ipynb",
   "output_path": "ML\\Regression_output.ipynb",
   "parameters": {
    "file": "Breast cancer.csv",
    "target": "info"
   },
   "start_time": "2021-10-29T17:52:29.400201",
   "version": "2.3.3"
  }
 },
 "nbformat": 4,
 "nbformat_minor": 5
}